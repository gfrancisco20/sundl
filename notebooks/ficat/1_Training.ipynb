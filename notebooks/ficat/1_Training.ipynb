{
 "cells": [
  {
   "cell_type": "markdown",
   "metadata": {},
   "source": [
    "# Training \n",
    "\n",
    "Notebooks to train models  \n",
    "  \n"
   ]
  },
  {
   "cell_type": "markdown",
   "metadata": {},
   "source": [
    "# Config"
   ]
  },
  {
   "cell_type": "code",
   "execution_count": 1,
   "metadata": {},
   "outputs": [
    {
     "name": "stderr",
     "output_type": "stream",
     "text": [
      "2024-02-02 18:36:02.334452: I tensorflow/core/platform/cpu_feature_guard.cc:182] This TensorFlow binary is optimized to use available CPU instructions in performance-critical operations.\n",
      "To enable the following instructions: AVX2 FMA, in other operations, rebuild TensorFlow with the appropriate compiler flags.\n"
     ]
    }
   ],
   "source": [
    "COLAB = False\n",
    "\n",
    "\n",
    "if COLAB : \n",
    "  configSetup = {\n",
    "      'COLAB'           : 'True',\n",
    "      'PATH_ROOT_DRIVE' : '/content/drive/MyDrive/Projects/Forecast',\n",
    "      'PATH_ROOT_LOCAL' : '/content/session',\n",
    "      'PATH_SUNDL'      : '/content/sundl',\n",
    "      'PATH_PROJECT'    : '/content/sundl/notebooks/ficat'\n",
    "  }\n",
    "  !git clone https://github.com/gfrancisco20/sundl-private.git\n",
    "  import sys\n",
    "  import re\n",
    "  sys.path.append(configSetup['PATH_SUNDL'])\n",
    "  sys.path.append(configSetup['PATH_PROJECT'])\n",
    "  configFile = f'{configSetup[\"PATH_PROJECT\"]}/config.py'\n",
    "  with open(configFile, 'r') as file:\n",
    "    content = file.read()\n",
    "  for constant in configSetup.keys():\n",
    "    content = re.sub(re.compile(f'{constant} = .*'), f'{constant} = \\'{configSetup[constant]}\\'', content)\n",
    "  with open(configFile, 'w') as file:\n",
    "    file.write(content)\n",
    "   \n",
    "from config import *\n",
    "from sundl.utils.colab import mountDrive\n",
    "if COLAB:\n",
    "  # mouting drive content in session on colab\n",
    "  mountDrive()"
   ]
  },
  {
   "cell_type": "markdown",
   "metadata": {},
   "source": [
    "# Libraries"
   ]
  },
  {
   "cell_type": "code",
   "execution_count": 2,
   "metadata": {},
   "outputs": [],
   "source": [
    "import shutil\n",
    "from pathlib import Path\n",
    "import dill as pickle\n",
    "\n",
    "import time\n",
    "from tqdm import tqdm\n",
    "import gc\n",
    "\n",
    "import datetime\n",
    "import numpy as np\n",
    "import pandas as pd\n",
    "\n",
    "import tensorflow as tf"
   ]
  },
  {
   "cell_type": "markdown",
   "metadata": {},
   "source": [
    "# Data import"
   ]
  },
  {
   "cell_type": "code",
   "execution_count": 3,
   "metadata": {},
   "outputs": [
    {
     "name": "stdout",
     "output_type": "stream",
     "text": [
      "\n",
      "Not connected to a GPU\n",
      "Your runtime has 17.2 gigabytes of available RAM\n",
      "\n",
      "Not using a high-RAM runtime\n",
      "\n",
      "images files already in local\n",
      "CPU times: user 1.63 ms, sys: 2 ms, total: 3.63 ms\n",
      "Wall time: 9.13 ms\n"
     ]
    },
    {
     "name": "stderr",
     "output_type": "stream",
     "text": [
      "sh: nvidia-smi: command not found\n"
     ]
    }
   ],
   "source": [
    "%%time\n",
    "from sundl.utils.colab import mountDrive, ressourcesSetAndCheck, drive2local\n",
    "############################\n",
    "# SETUP\n",
    "############################\n",
    "\n",
    "# overwriting CLEAN_LOCAL :\n",
    "CLEAN_LOCAL = False\n",
    "\n",
    "if CLEAN_LOCAL:\n",
    "  shutil.rmtree(PATH_ROOT_LOCAL)\n",
    "  os.makedirs(PATH_ROOT_LOCAL)\n",
    "  \n",
    "# checking gpu and ram ressources\n",
    "ressourcesSetAndCheck(MIXED_PREC)\n",
    "\n",
    "############################\n",
    "# DATA IMPORT\n",
    "############################\n",
    "\n",
    "FILES2TRANSFER = {'images' : (PATH_ROOT_DRIVE_DS/'Images',        # source\n",
    "                              PATH_IMAGES,                        # dest\n",
    "                              ['ce_193x211x94_224'] # files\n",
    "                              )\n",
    "                  }\n",
    "\n",
    "drive2local(FILES2TRANSFER)"
   ]
  },
  {
   "cell_type": "markdown",
   "metadata": {},
   "source": [
    "# Hyperparameters"
   ]
  },
  {
   "cell_type": "code",
   "execution_count": 4,
   "metadata": {},
   "outputs": [],
   "source": [
    "\n",
    "\n",
    "ts_off_label_days  = np.arange(0.5,6.5,0.5)   # lag with respect to sample/forecast date (the image date is the sample/forecast date)\n",
    "ts_off_scalar_days = None\n",
    "\n",
    "\n",
    "labelCol      = 'sw_v' # 'mpf' -> windows's SXR-max-peak-flux , 'toteh' -> (hourly average of sum of flares' SXR-fluence)\n",
    "windows_avg_h = 12\n",
    "EPOCHS        = 2 # 25\n",
    "BATCH_SIZE    = 16\n",
    "IMG_SIZE      = (224, 224, 3) # (512, 1024, 3) (224, 448, 3)\n",
    "# PTCH_SIZE    = (112, 112, 3) # (256, 256, 3) (112, 112, 3)\n",
    "\n",
    "NEW_FOLDER_NAME   = 'Ficattina'                 # New folder in which to store results\n",
    "CONTINUING_FOLDER = None # Existing foler in which to store results\n",
    "\n",
    "# CV PARAMETERS\n",
    "CV_K          = 1 \n",
    "VAL_SPLIT     = None # --> not used if CV_K not none\n",
    "testSplitDate = datetime.datetime(2019,1,1) # splitting date between CV and operational tes\n",
    "buffer        = pd.DateOffset(days=4)      # size of discarded buffer between temporal chunks (ensure folds indepedancy)\n",
    "chunk_width   = pd.DateOffset(days=20)      # size of temporal chunks\n",
    "bufferTest    = pd.DateOffset(days=27)\n",
    "bufferCme     = pd.DateOffset(days=4)  \n",
    "\n",
    "SAMPLE_TRAIN = 0.01 # 0.95 \n",
    "SAMPLE_VAL   = 0.05\n",
    "\n",
    "CACHE     = True\n",
    "verbose   = 0\n",
    "\n",
    "SAVE_MODEL   = True\n",
    "save_monitor = 'val_rmse'\n",
    "save_mode    = 'min'\n",
    "save_thd     = 85\n",
    "RECOMPUTE_DATASET = True\n",
    "\n",
    "\n",
    "metrics = [tf.keras.metrics.MeanAbsoluteError('mae'),\n",
    "           tf.keras.metrics.MeanAbsolutePercentageError('maep'),\n",
    "           tf.keras.metrics.RootMeanSquaredError('rmse')\n",
    "          ]\n",
    "          #  tf.keras.metrics.R2Score(name='r2',]\n",
    "   \n",
    "ts_off_label_hours = [int(24*off) for off in ts_off_label_days]   # lag with respect to sample/forecast date (the image date is the sample/forecast date)\n",
    "if ts_off_scalar_days is not None:\n",
    "  ts_off_scalar_hours = [int(24*off) for off in ts_off_scalar_days] \n",
    "else:\n",
    "  ts_off_scalar_hours = None"
   ]
  },
  {
   "cell_type": "markdown",
   "metadata": {},
   "source": [
    "# Models Definition"
   ]
  },
  {
   "cell_type": "code",
   "execution_count": 5,
   "metadata": {},
   "outputs": [],
   "source": [
    "from utilsTraining import ModelInstantier2\n",
    "from sundl.models.blueprints import build_pretrained_model, build_persistant_model\n",
    "from sundl.dataloader.sdocml import builDS_image_feature, buildDS_persistant_MTS\n",
    "from tensorflow.keras.optimizers import Adam, AdamW\n",
    "\n",
    "loss = tf.keras.losses.MeanSquaredError(name = 'loss')\n",
    "\n",
    "optimizer = AdamW(\n",
    "    learning_rate = 1e-3,\n",
    "    weight_decay  = 1e-3,\n",
    "    amsgrad       = True\n",
    ")\n",
    "\n",
    "spatial_feature_red = tf.keras.layers.Conv2D(name = 'top_conv',\n",
    "                                  filters = 1,\n",
    "                                  kernel_size = (4,4),\n",
    "                                  activation = None\n",
    "                                  )\n",
    "\n",
    "ts_off_scalar_hours = None\n",
    "if ts_off_scalar_hours is None:\n",
    "  scalarFeaturesSize = None\n",
    "else:\n",
    "  scalarFeaturesSize = len(ts_off_scalar_hours)\n",
    "  \n",
    "\n",
    "\n",
    "sp16 = ModelInstantier2(\n",
    "    buildModelFunction = build_pretrained_model,\n",
    "    buildModelParams = {\n",
    "        'tfModel'   : tf.keras.applications.efficientnet_v2.EfficientNetV2S,\n",
    "        'metrics'   : metrics,\n",
    "        'optimizer' : optimizer,\n",
    "        'loss'      : loss,\n",
    "        'img_size'  : IMG_SIZE,\n",
    "        'regression': True,\n",
    "        'lastTfConv'        : 'top_conv',\n",
    "        'feature_reduction' : spatial_feature_red,\n",
    "        'globalPooling'     : False,\n",
    "        'pretainedWeight' : True,\n",
    "        'unfreeze_top_N' : None,\n",
    "        'scalarFeaturesSize' : None,\n",
    "        'labelSize'          : len(ts_off_label_hours)\n",
    "        },\n",
    "    buildDsFunction = builDS_image_feature,\n",
    "    buildDsParams  = {\n",
    "        'img_size'    : None,\n",
    "        'labelCol'    : labelCol,\n",
    "        'regression'  : True,\n",
    "        'ts_off_label_hours' : ts_off_label_hours,\n",
    "        'ts_off_scalar_hours': None,\n",
    "        },\n",
    "    name       = 'SW',\n",
    "    archiTag   = 'EfN2S',\n",
    "    featureTag = 'SpX16', # @['Sp' -> spatial features , 'Gl' -> avg-pooled feeatures]   \n",
    ")\n",
    "\n",
    "sp16scFt = ModelInstantier2(\n",
    "    buildModelFunction = build_pretrained_model,\n",
    "    buildModelParams = {\n",
    "        'tfModel'   : tf.keras.applications.efficientnet_v2.EfficientNetV2S,\n",
    "        'metrics'   : metrics,\n",
    "        'optimizer' : optimizer,\n",
    "        'loss'      : loss,\n",
    "        'img_size'  : IMG_SIZE,\n",
    "        'regression': True,\n",
    "        'lastTfConv'        : 'top_conv',\n",
    "        'feature_reduction' : spatial_feature_red,\n",
    "        'globalPooling'     : False,\n",
    "        'pretainedWeight' : True,\n",
    "        'unfreeze_top_N' : None,\n",
    "        'scalarAgregation'   : 'feature',\n",
    "        'scalarFeaturesSize' : len(ts_off_label_hours),\n",
    "        'labelSize'          : len(ts_off_label_hours)\n",
    "        },\n",
    "    buildDsFunction = builDS_image_feature,\n",
    "    buildDsParams  = {\n",
    "        'img_size'    : None,\n",
    "        'labelCol'    : labelCol,\n",
    "        'regression'  : True,\n",
    "        'ts_off_label_hours' : ts_off_label_hours,\n",
    "        'ts_off_scalar_hours': [offlabel - 27*24 for offlabel in ts_off_label_hours],\n",
    "        },\n",
    "    name       = 'SW',\n",
    "    archiTag   = 'EfN2S',\n",
    "    featureTag = 'SpX16', # @['Sp' -> spatial features , 'Gl' -> avg-pooled feeatures]   \n",
    ")\n",
    "\n",
    "sp16scBs = ModelInstantier2(\n",
    "    buildModelFunction = build_pretrained_model,\n",
    "    buildModelParams = {\n",
    "        'tfModel'   : tf.keras.applications.efficientnet_v2.EfficientNetV2S,\n",
    "        'metrics'   : metrics,\n",
    "        'optimizer' : optimizer,\n",
    "        'loss'      : loss,\n",
    "        'img_size'  : IMG_SIZE,\n",
    "        'regression': True,\n",
    "        'lastTfConv'        : 'top_conv',\n",
    "        'feature_reduction' : spatial_feature_red,\n",
    "        'globalPooling'     : False,\n",
    "        'pretainedWeight' : True,\n",
    "        'unfreeze_top_N' : None,\n",
    "        'scalarAgregation'   : 'baseline',\n",
    "        'scalarFeaturesSize' : len(ts_off_label_hours),\n",
    "        'labelSize'          : len(ts_off_label_hours)\n",
    "        },\n",
    "    buildDsFunction = builDS_image_feature,\n",
    "    buildDsParams  = {\n",
    "        'img_size'    : None,\n",
    "        'labelCol'    : labelCol,\n",
    "        'regression'  : True,\n",
    "        'ts_off_label_hours' : ts_off_label_hours,\n",
    "        'ts_off_scalar_hours': [offlabel - 27*24 for offlabel in ts_off_label_hours],\n",
    "        },\n",
    "    name       = 'SW',\n",
    "    archiTag   = 'EfN2S',\n",
    "    featureTag = 'SpX16', # @['Sp' -> spatial features , 'Gl' -> avg-pooled feeatures]   \n",
    ")\n",
    "\n",
    "\n",
    "persistant27 = ModelInstantier2(\n",
    "    buildModelFunction = build_persistant_model,\n",
    "    buildModelParams = {\n",
    "        'metrics'   : metrics,\n",
    "        'optimizer' : optimizer,\n",
    "        'loss'      : loss,\n",
    "        'regression': True\n",
    "        },\n",
    "    buildDsFunction = buildDS_persistant_MTS,\n",
    "    buildDsParams  = {\n",
    "        'labelCol'    : labelCol,\n",
    "        'regression'  : True,\n",
    "        'ts_off_label_hours'  : ts_off_label_hours,\n",
    "        'ts_off_history_hours': [offlabel - 27*24 for offlabel in ts_off_label_hours],\n",
    "        },\n",
    "    name       = 'SW',\n",
    "    archiTag   = 'Pst27',\n",
    "    featureTag = '', # @['Sp' -> spatial features , 'Gl' -> avg-pooled feeatures]   \n",
    ")\n",
    "\n",
    "persistant4 = ModelInstantier2(\n",
    "    buildModelFunction = build_persistant_model,\n",
    "    buildModelParams = {\n",
    "        'metrics'   : metrics,\n",
    "        'optimizer' : optimizer,\n",
    "        'loss'      : loss,\n",
    "        'regression': True\n",
    "        },\n",
    "    buildDsFunction = buildDS_persistant_MTS,\n",
    "    buildDsParams  = {\n",
    "        'labelCol'    : labelCol,\n",
    "        'regression'  : True,\n",
    "        'ts_off_label_hours'  : ts_off_label_hours,\n",
    "        'ts_off_history_hours': [offlabel - 4*24 for offlabel in ts_off_label_hours],\n",
    "        },\n",
    "    name       = 'SW',\n",
    "    archiTag   = 'Pst04',\n",
    "    featureTag = '', # @['Sp' -> spatial features , 'Gl' -> avg-pooled feeatures]   \n",
    ")"
   ]
  },
  {
   "cell_type": "markdown",
   "metadata": {},
   "source": [
    "# Training"
   ]
  },
  {
   "cell_type": "code",
   "execution_count": 6,
   "metadata": {},
   "outputs": [
    {
     "name": "stdout",
     "output_type": "stream",
     "text": [
      "\n",
      "INITIAL STATUS : \n"
     ]
    },
    {
     "data": {
      "text/html": [
       "<div>\n",
       "<style scoped>\n",
       "    .dataframe tbody tr th:only-of-type {\n",
       "        vertical-align: middle;\n",
       "    }\n",
       "\n",
       "    .dataframe tbody tr th {\n",
       "        vertical-align: top;\n",
       "    }\n",
       "\n",
       "    .dataframe thead th {\n",
       "        text-align: right;\n",
       "    }\n",
       "</style>\n",
       "<table border=\"1\" class=\"dataframe\">\n",
       "  <thead>\n",
       "    <tr style=\"text-align: right;\">\n",
       "      <th></th>\n",
       "      <th>status</th>\n",
       "      <th>duration</th>\n",
       "    </tr>\n",
       "    <tr>\n",
       "      <th>model</th>\n",
       "      <th></th>\n",
       "      <th></th>\n",
       "    </tr>\n",
       "  </thead>\n",
       "  <tbody>\n",
       "    <tr>\n",
       "      <th>SW_EfN2S_SpX16_Ptrd_Lx12Hx6Dx12_ScFt_0193x0211x0094_12</th>\n",
       "      <td>0</td>\n",
       "      <td></td>\n",
       "    </tr>\n",
       "    <tr>\n",
       "      <th>SW_EfN2S_SpX16_Ptrd_Lx12Hx6Dx12_ScBs_0193x0211x0094_12</th>\n",
       "      <td>0</td>\n",
       "      <td></td>\n",
       "    </tr>\n",
       "    <tr>\n",
       "      <th>SW_Pst27___Lx12Hx6Dx12__12</th>\n",
       "      <td>0</td>\n",
       "      <td></td>\n",
       "    </tr>\n",
       "    <tr>\n",
       "      <th>SW_Pst04___Lx12Hx6Dx12__12</th>\n",
       "      <td>0</td>\n",
       "      <td></td>\n",
       "    </tr>\n",
       "    <tr>\n",
       "      <th>SW_EfN2S_SpX16_Ptrd_Lx12Hx6Dx12_0193x0211x0094_12</th>\n",
       "      <td>0</td>\n",
       "      <td></td>\n",
       "    </tr>\n",
       "  </tbody>\n",
       "</table>\n",
       "</div>"
      ],
      "text/plain": [
       "                                                    status duration\n",
       "model                                                              \n",
       "SW_EfN2S_SpX16_Ptrd_Lx12Hx6Dx12_ScFt_0193x0211x...       0         \n",
       "SW_EfN2S_SpX16_Ptrd_Lx12Hx6Dx12_ScBs_0193x0211x...       0         \n",
       "SW_Pst27___Lx12Hx6Dx12__12                               0         \n",
       "SW_Pst04___Lx12Hx6Dx12__12                               0         \n",
       "SW_EfN2S_SpX16_Ptrd_Lx12Hx6Dx12_0193x0211x0094_12        0         "
      ]
     },
     "metadata": {},
     "output_type": "display_data"
    },
    {
     "name": "stdout",
     "output_type": "stream",
     "text": [
      "\n",
      "minDate :  2010-05-13 00:00:00\n",
      "maxDate :  2023-04-19 00:00:00\n"
     ]
    },
    {
     "name": "stderr",
     "output_type": "stream",
     "text": [
      "  0%|          | 0/5 [00:00<?, ?it/s]/Users/greg/Projects/sundl/notebooks/ficat/../../sundl/dataloader/sdocml.py:194: FutureWarning: Series.__getitem__ treating keys as positions is deprecated. In a future version, integer keys will always be treated as labels (consistent with DataFrame behavior). To access a value by position, use `ser.iloc[pos]`\n",
      "  ).apply(lambda x: x[-1]).shift(freq = f'-{offLabel}H')#[:-int(offLabel/2)]\n"
     ]
    },
    {
     "name": "stdout",
     "output_type": "stream",
     "text": [
      "\n",
      "\n",
      "-----------------------------\n",
      "Model : SW_EfN2S_SpX16_Ptrd_Lx12Hx6Dx12_ScFt_0193x0211x0094_12\n",
      "\n",
      "\n",
      "-----------------------------\n",
      "Model : SW_EfN2S_SpX16_Ptrd_Lx12Hx6Dx12_ScFt_0193x0211x0094_12\n",
      "FOLD #0\n",
      "\n",
      "DS TRAINING : \n",
      "WARNING : 61 NaN (droped) for label at ts 12\n"
     ]
    },
    {
     "name": "stderr",
     "output_type": "stream",
     "text": [
      "/Users/greg/Projects/sundl/notebooks/ficat/../../sundl/dataloader/sdocml.py:194: FutureWarning: Series.__getitem__ treating keys as positions is deprecated. In a future version, integer keys will always be treated as labels (consistent with DataFrame behavior). To access a value by position, use `ser.iloc[pos]`\n",
      "  ).apply(lambda x: x[-1]).shift(freq = f'-{offLabel}H')#[:-int(offLabel/2)]\n"
     ]
    },
    {
     "name": "stdout",
     "output_type": "stream",
     "text": [
      "WARNING : 67 NaN (droped) for label at ts 24\n"
     ]
    },
    {
     "name": "stderr",
     "output_type": "stream",
     "text": [
      "/Users/greg/Projects/sundl/notebooks/ficat/../../sundl/dataloader/sdocml.py:194: FutureWarning: Series.__getitem__ treating keys as positions is deprecated. In a future version, integer keys will always be treated as labels (consistent with DataFrame behavior). To access a value by position, use `ser.iloc[pos]`\n",
      "  ).apply(lambda x: x[-1]).shift(freq = f'-{offLabel}H')#[:-int(offLabel/2)]\n"
     ]
    },
    {
     "name": "stdout",
     "output_type": "stream",
     "text": [
      "WARNING : 73 NaN (droped) for label at ts 36\n"
     ]
    },
    {
     "name": "stderr",
     "output_type": "stream",
     "text": [
      "/Users/greg/Projects/sundl/notebooks/ficat/../../sundl/dataloader/sdocml.py:194: FutureWarning: Series.__getitem__ treating keys as positions is deprecated. In a future version, integer keys will always be treated as labels (consistent with DataFrame behavior). To access a value by position, use `ser.iloc[pos]`\n",
      "  ).apply(lambda x: x[-1]).shift(freq = f'-{offLabel}H')#[:-int(offLabel/2)]\n"
     ]
    },
    {
     "name": "stdout",
     "output_type": "stream",
     "text": [
      "WARNING : 79 NaN (droped) for label at ts 48\n"
     ]
    },
    {
     "name": "stderr",
     "output_type": "stream",
     "text": [
      "/Users/greg/Projects/sundl/notebooks/ficat/../../sundl/dataloader/sdocml.py:194: FutureWarning: Series.__getitem__ treating keys as positions is deprecated. In a future version, integer keys will always be treated as labels (consistent with DataFrame behavior). To access a value by position, use `ser.iloc[pos]`\n",
      "  ).apply(lambda x: x[-1]).shift(freq = f'-{offLabel}H')#[:-int(offLabel/2)]\n"
     ]
    },
    {
     "name": "stdout",
     "output_type": "stream",
     "text": [
      "WARNING : 85 NaN (droped) for label at ts 60\n"
     ]
    },
    {
     "name": "stderr",
     "output_type": "stream",
     "text": [
      "/Users/greg/Projects/sundl/notebooks/ficat/../../sundl/dataloader/sdocml.py:194: FutureWarning: Series.__getitem__ treating keys as positions is deprecated. In a future version, integer keys will always be treated as labels (consistent with DataFrame behavior). To access a value by position, use `ser.iloc[pos]`\n",
      "  ).apply(lambda x: x[-1]).shift(freq = f'-{offLabel}H')#[:-int(offLabel/2)]\n"
     ]
    },
    {
     "name": "stdout",
     "output_type": "stream",
     "text": [
      "WARNING : 91 NaN (droped) for label at ts 72\n"
     ]
    },
    {
     "name": "stderr",
     "output_type": "stream",
     "text": [
      "/Users/greg/Projects/sundl/notebooks/ficat/../../sundl/dataloader/sdocml.py:194: FutureWarning: Series.__getitem__ treating keys as positions is deprecated. In a future version, integer keys will always be treated as labels (consistent with DataFrame behavior). To access a value by position, use `ser.iloc[pos]`\n",
      "  ).apply(lambda x: x[-1]).shift(freq = f'-{offLabel}H')#[:-int(offLabel/2)]\n"
     ]
    },
    {
     "name": "stdout",
     "output_type": "stream",
     "text": [
      "WARNING : 97 NaN (droped) for label at ts 84\n"
     ]
    },
    {
     "name": "stderr",
     "output_type": "stream",
     "text": [
      "/Users/greg/Projects/sundl/notebooks/ficat/../../sundl/dataloader/sdocml.py:194: FutureWarning: Series.__getitem__ treating keys as positions is deprecated. In a future version, integer keys will always be treated as labels (consistent with DataFrame behavior). To access a value by position, use `ser.iloc[pos]`\n",
      "  ).apply(lambda x: x[-1]).shift(freq = f'-{offLabel}H')#[:-int(offLabel/2)]\n"
     ]
    },
    {
     "name": "stdout",
     "output_type": "stream",
     "text": [
      "WARNING : 103 NaN (droped) for label at ts 96\n"
     ]
    },
    {
     "name": "stderr",
     "output_type": "stream",
     "text": [
      "/Users/greg/Projects/sundl/notebooks/ficat/../../sundl/dataloader/sdocml.py:194: FutureWarning: Series.__getitem__ treating keys as positions is deprecated. In a future version, integer keys will always be treated as labels (consistent with DataFrame behavior). To access a value by position, use `ser.iloc[pos]`\n",
      "  ).apply(lambda x: x[-1]).shift(freq = f'-{offLabel}H')#[:-int(offLabel/2)]\n"
     ]
    },
    {
     "name": "stdout",
     "output_type": "stream",
     "text": [
      "WARNING : 109 NaN (droped) for label at ts 108\n"
     ]
    },
    {
     "name": "stderr",
     "output_type": "stream",
     "text": [
      "/Users/greg/Projects/sundl/notebooks/ficat/../../sundl/dataloader/sdocml.py:194: FutureWarning: Series.__getitem__ treating keys as positions is deprecated. In a future version, integer keys will always be treated as labels (consistent with DataFrame behavior). To access a value by position, use `ser.iloc[pos]`\n",
      "  ).apply(lambda x: x[-1]).shift(freq = f'-{offLabel}H')#[:-int(offLabel/2)]\n"
     ]
    },
    {
     "name": "stdout",
     "output_type": "stream",
     "text": [
      "WARNING : 115 NaN (droped) for label at ts 120\n"
     ]
    },
    {
     "name": "stderr",
     "output_type": "stream",
     "text": [
      "/Users/greg/Projects/sundl/notebooks/ficat/../../sundl/dataloader/sdocml.py:194: FutureWarning: Series.__getitem__ treating keys as positions is deprecated. In a future version, integer keys will always be treated as labels (consistent with DataFrame behavior). To access a value by position, use `ser.iloc[pos]`\n",
      "  ).apply(lambda x: x[-1]).shift(freq = f'-{offLabel}H')#[:-int(offLabel/2)]\n"
     ]
    },
    {
     "name": "stdout",
     "output_type": "stream",
     "text": [
      "WARNING : 121 NaN (droped) for label at ts 132\n"
     ]
    },
    {
     "name": "stderr",
     "output_type": "stream",
     "text": [
      "/Users/greg/Projects/sundl/notebooks/ficat/../../sundl/dataloader/sdocml.py:194: FutureWarning: Series.__getitem__ treating keys as positions is deprecated. In a future version, integer keys will always be treated as labels (consistent with DataFrame behavior). To access a value by position, use `ser.iloc[pos]`\n",
      "  ).apply(lambda x: x[-1]).shift(freq = f'-{offLabel}H')#[:-int(offLabel/2)]\n"
     ]
    },
    {
     "name": "stdout",
     "output_type": "stream",
     "text": [
      "WARNING : 127 NaN (droped) for label at ts 144\n"
     ]
    },
    {
     "name": "stderr",
     "output_type": "stream",
     "text": [
      "/Users/greg/Projects/sundl/notebooks/ficat/../../sundl/dataloader/sdocml.py:205: FutureWarning: Series.__getitem__ treating keys as positions is deprecated. In a future version, integer keys will always be treated as labels (consistent with DataFrame behavior). To access a value by position, use `ser.iloc[pos]`\n",
      "  ).apply(lambda x: x[0])#[24*scalar_lag:]\n",
      "/Users/greg/Projects/sundl/notebooks/ficat/../../sundl/dataloader/sdocml.py:205: FutureWarning: Series.__getitem__ treating keys as positions is deprecated. In a future version, integer keys will always be treated as labels (consistent with DataFrame behavior). To access a value by position, use `ser.iloc[pos]`\n",
      "  ).apply(lambda x: x[0])#[24*scalar_lag:]\n",
      "/Users/greg/Projects/sundl/notebooks/ficat/../../sundl/dataloader/sdocml.py:205: FutureWarning: Series.__getitem__ treating keys as positions is deprecated. In a future version, integer keys will always be treated as labels (consistent with DataFrame behavior). To access a value by position, use `ser.iloc[pos]`\n",
      "  ).apply(lambda x: x[0])#[24*scalar_lag:]\n",
      "/Users/greg/Projects/sundl/notebooks/ficat/../../sundl/dataloader/sdocml.py:205: FutureWarning: Series.__getitem__ treating keys as positions is deprecated. In a future version, integer keys will always be treated as labels (consistent with DataFrame behavior). To access a value by position, use `ser.iloc[pos]`\n",
      "  ).apply(lambda x: x[0])#[24*scalar_lag:]\n",
      "/Users/greg/Projects/sundl/notebooks/ficat/../../sundl/dataloader/sdocml.py:205: FutureWarning: Series.__getitem__ treating keys as positions is deprecated. In a future version, integer keys will always be treated as labels (consistent with DataFrame behavior). To access a value by position, use `ser.iloc[pos]`\n",
      "  ).apply(lambda x: x[0])#[24*scalar_lag:]\n",
      "/Users/greg/Projects/sundl/notebooks/ficat/../../sundl/dataloader/sdocml.py:205: FutureWarning: Series.__getitem__ treating keys as positions is deprecated. In a future version, integer keys will always be treated as labels (consistent with DataFrame behavior). To access a value by position, use `ser.iloc[pos]`\n",
      "  ).apply(lambda x: x[0])#[24*scalar_lag:]\n",
      "/Users/greg/Projects/sundl/notebooks/ficat/../../sundl/dataloader/sdocml.py:205: FutureWarning: Series.__getitem__ treating keys as positions is deprecated. In a future version, integer keys will always be treated as labels (consistent with DataFrame behavior). To access a value by position, use `ser.iloc[pos]`\n",
      "  ).apply(lambda x: x[0])#[24*scalar_lag:]\n",
      "/Users/greg/Projects/sundl/notebooks/ficat/../../sundl/dataloader/sdocml.py:205: FutureWarning: Series.__getitem__ treating keys as positions is deprecated. In a future version, integer keys will always be treated as labels (consistent with DataFrame behavior). To access a value by position, use `ser.iloc[pos]`\n",
      "  ).apply(lambda x: x[0])#[24*scalar_lag:]\n",
      "/Users/greg/Projects/sundl/notebooks/ficat/../../sundl/dataloader/sdocml.py:205: FutureWarning: Series.__getitem__ treating keys as positions is deprecated. In a future version, integer keys will always be treated as labels (consistent with DataFrame behavior). To access a value by position, use `ser.iloc[pos]`\n",
      "  ).apply(lambda x: x[0])#[24*scalar_lag:]\n",
      "/Users/greg/Projects/sundl/notebooks/ficat/../../sundl/dataloader/sdocml.py:205: FutureWarning: Series.__getitem__ treating keys as positions is deprecated. In a future version, integer keys will always be treated as labels (consistent with DataFrame behavior). To access a value by position, use `ser.iloc[pos]`\n",
      "  ).apply(lambda x: x[0])#[24*scalar_lag:]\n",
      "/Users/greg/Projects/sundl/notebooks/ficat/../../sundl/dataloader/sdocml.py:205: FutureWarning: Series.__getitem__ treating keys as positions is deprecated. In a future version, integer keys will always be treated as labels (consistent with DataFrame behavior). To access a value by position, use `ser.iloc[pos]`\n",
      "  ).apply(lambda x: x[0])#[24*scalar_lag:]\n",
      "/Users/greg/Projects/sundl/notebooks/ficat/../../sundl/dataloader/sdocml.py:205: FutureWarning: Series.__getitem__ treating keys as positions is deprecated. In a future version, integer keys will always be treated as labels (consistent with DataFrame behavior). To access a value by position, use `ser.iloc[pos]`\n",
      "  ).apply(lambda x: x[0])#[24*scalar_lag:]\n"
     ]
    },
    {
     "name": "stdout",
     "output_type": "stream",
     "text": [
      "------------------------------\n",
      "labels.shape (205, 12)\n",
      "------------------------------\n",
      "\n",
      "DS VALIDATION : \n"
     ]
    },
    {
     "name": "stderr",
     "output_type": "stream",
     "text": [
      "/Users/greg/Projects/sundl/notebooks/ficat/../../sundl/dataloader/sdocml.py:194: FutureWarning: Series.__getitem__ treating keys as positions is deprecated. In a future version, integer keys will always be treated as labels (consistent with DataFrame behavior). To access a value by position, use `ser.iloc[pos]`\n",
      "  ).apply(lambda x: x[-1]).shift(freq = f'-{offLabel}H')#[:-int(offLabel/2)]\n"
     ]
    },
    {
     "name": "stdout",
     "output_type": "stream",
     "text": [
      "WARNING : 61 NaN (droped) for label at ts 12\n"
     ]
    },
    {
     "name": "stderr",
     "output_type": "stream",
     "text": [
      "/Users/greg/Projects/sundl/notebooks/ficat/../../sundl/dataloader/sdocml.py:194: FutureWarning: Series.__getitem__ treating keys as positions is deprecated. In a future version, integer keys will always be treated as labels (consistent with DataFrame behavior). To access a value by position, use `ser.iloc[pos]`\n",
      "  ).apply(lambda x: x[-1]).shift(freq = f'-{offLabel}H')#[:-int(offLabel/2)]\n"
     ]
    },
    {
     "name": "stdout",
     "output_type": "stream",
     "text": [
      "WARNING : 67 NaN (droped) for label at ts 24\n"
     ]
    },
    {
     "name": "stderr",
     "output_type": "stream",
     "text": [
      "/Users/greg/Projects/sundl/notebooks/ficat/../../sundl/dataloader/sdocml.py:194: FutureWarning: Series.__getitem__ treating keys as positions is deprecated. In a future version, integer keys will always be treated as labels (consistent with DataFrame behavior). To access a value by position, use `ser.iloc[pos]`\n",
      "  ).apply(lambda x: x[-1]).shift(freq = f'-{offLabel}H')#[:-int(offLabel/2)]\n"
     ]
    },
    {
     "name": "stdout",
     "output_type": "stream",
     "text": [
      "WARNING : 73 NaN (droped) for label at ts 36\n"
     ]
    },
    {
     "name": "stderr",
     "output_type": "stream",
     "text": [
      "/Users/greg/Projects/sundl/notebooks/ficat/../../sundl/dataloader/sdocml.py:194: FutureWarning: Series.__getitem__ treating keys as positions is deprecated. In a future version, integer keys will always be treated as labels (consistent with DataFrame behavior). To access a value by position, use `ser.iloc[pos]`\n",
      "  ).apply(lambda x: x[-1]).shift(freq = f'-{offLabel}H')#[:-int(offLabel/2)]\n"
     ]
    },
    {
     "name": "stdout",
     "output_type": "stream",
     "text": [
      "WARNING : 79 NaN (droped) for label at ts 48\n"
     ]
    },
    {
     "name": "stderr",
     "output_type": "stream",
     "text": [
      "/Users/greg/Projects/sundl/notebooks/ficat/../../sundl/dataloader/sdocml.py:194: FutureWarning: Series.__getitem__ treating keys as positions is deprecated. In a future version, integer keys will always be treated as labels (consistent with DataFrame behavior). To access a value by position, use `ser.iloc[pos]`\n",
      "  ).apply(lambda x: x[-1]).shift(freq = f'-{offLabel}H')#[:-int(offLabel/2)]\n"
     ]
    },
    {
     "name": "stdout",
     "output_type": "stream",
     "text": [
      "WARNING : 85 NaN (droped) for label at ts 60\n"
     ]
    },
    {
     "name": "stderr",
     "output_type": "stream",
     "text": [
      "/Users/greg/Projects/sundl/notebooks/ficat/../../sundl/dataloader/sdocml.py:194: FutureWarning: Series.__getitem__ treating keys as positions is deprecated. In a future version, integer keys will always be treated as labels (consistent with DataFrame behavior). To access a value by position, use `ser.iloc[pos]`\n",
      "  ).apply(lambda x: x[-1]).shift(freq = f'-{offLabel}H')#[:-int(offLabel/2)]\n"
     ]
    },
    {
     "name": "stdout",
     "output_type": "stream",
     "text": [
      "WARNING : 91 NaN (droped) for label at ts 72\n"
     ]
    },
    {
     "name": "stderr",
     "output_type": "stream",
     "text": [
      "/Users/greg/Projects/sundl/notebooks/ficat/../../sundl/dataloader/sdocml.py:194: FutureWarning: Series.__getitem__ treating keys as positions is deprecated. In a future version, integer keys will always be treated as labels (consistent with DataFrame behavior). To access a value by position, use `ser.iloc[pos]`\n",
      "  ).apply(lambda x: x[-1]).shift(freq = f'-{offLabel}H')#[:-int(offLabel/2)]\n"
     ]
    },
    {
     "name": "stdout",
     "output_type": "stream",
     "text": [
      "WARNING : 97 NaN (droped) for label at ts 84\n"
     ]
    },
    {
     "name": "stderr",
     "output_type": "stream",
     "text": [
      "/Users/greg/Projects/sundl/notebooks/ficat/../../sundl/dataloader/sdocml.py:194: FutureWarning: Series.__getitem__ treating keys as positions is deprecated. In a future version, integer keys will always be treated as labels (consistent with DataFrame behavior). To access a value by position, use `ser.iloc[pos]`\n",
      "  ).apply(lambda x: x[-1]).shift(freq = f'-{offLabel}H')#[:-int(offLabel/2)]\n"
     ]
    },
    {
     "name": "stdout",
     "output_type": "stream",
     "text": [
      "WARNING : 103 NaN (droped) for label at ts 96\n"
     ]
    },
    {
     "name": "stderr",
     "output_type": "stream",
     "text": [
      "/Users/greg/Projects/sundl/notebooks/ficat/../../sundl/dataloader/sdocml.py:194: FutureWarning: Series.__getitem__ treating keys as positions is deprecated. In a future version, integer keys will always be treated as labels (consistent with DataFrame behavior). To access a value by position, use `ser.iloc[pos]`\n",
      "  ).apply(lambda x: x[-1]).shift(freq = f'-{offLabel}H')#[:-int(offLabel/2)]\n"
     ]
    },
    {
     "name": "stdout",
     "output_type": "stream",
     "text": [
      "WARNING : 109 NaN (droped) for label at ts 108\n"
     ]
    },
    {
     "name": "stderr",
     "output_type": "stream",
     "text": [
      "/Users/greg/Projects/sundl/notebooks/ficat/../../sundl/dataloader/sdocml.py:194: FutureWarning: Series.__getitem__ treating keys as positions is deprecated. In a future version, integer keys will always be treated as labels (consistent with DataFrame behavior). To access a value by position, use `ser.iloc[pos]`\n",
      "  ).apply(lambda x: x[-1]).shift(freq = f'-{offLabel}H')#[:-int(offLabel/2)]\n"
     ]
    },
    {
     "name": "stdout",
     "output_type": "stream",
     "text": [
      "WARNING : 115 NaN (droped) for label at ts 120\n"
     ]
    },
    {
     "name": "stderr",
     "output_type": "stream",
     "text": [
      "/Users/greg/Projects/sundl/notebooks/ficat/../../sundl/dataloader/sdocml.py:194: FutureWarning: Series.__getitem__ treating keys as positions is deprecated. In a future version, integer keys will always be treated as labels (consistent with DataFrame behavior). To access a value by position, use `ser.iloc[pos]`\n",
      "  ).apply(lambda x: x[-1]).shift(freq = f'-{offLabel}H')#[:-int(offLabel/2)]\n"
     ]
    },
    {
     "name": "stdout",
     "output_type": "stream",
     "text": [
      "WARNING : 121 NaN (droped) for label at ts 132\n"
     ]
    },
    {
     "name": "stderr",
     "output_type": "stream",
     "text": [
      "/Users/greg/Projects/sundl/notebooks/ficat/../../sundl/dataloader/sdocml.py:194: FutureWarning: Series.__getitem__ treating keys as positions is deprecated. In a future version, integer keys will always be treated as labels (consistent with DataFrame behavior). To access a value by position, use `ser.iloc[pos]`\n",
      "  ).apply(lambda x: x[-1]).shift(freq = f'-{offLabel}H')#[:-int(offLabel/2)]\n"
     ]
    },
    {
     "name": "stdout",
     "output_type": "stream",
     "text": [
      "WARNING : 127 NaN (droped) for label at ts 144\n"
     ]
    },
    {
     "name": "stderr",
     "output_type": "stream",
     "text": [
      "/Users/greg/Projects/sundl/notebooks/ficat/../../sundl/dataloader/sdocml.py:205: FutureWarning: Series.__getitem__ treating keys as positions is deprecated. In a future version, integer keys will always be treated as labels (consistent with DataFrame behavior). To access a value by position, use `ser.iloc[pos]`\n",
      "  ).apply(lambda x: x[0])#[24*scalar_lag:]\n",
      "/Users/greg/Projects/sundl/notebooks/ficat/../../sundl/dataloader/sdocml.py:205: FutureWarning: Series.__getitem__ treating keys as positions is deprecated. In a future version, integer keys will always be treated as labels (consistent with DataFrame behavior). To access a value by position, use `ser.iloc[pos]`\n",
      "  ).apply(lambda x: x[0])#[24*scalar_lag:]\n",
      "/Users/greg/Projects/sundl/notebooks/ficat/../../sundl/dataloader/sdocml.py:205: FutureWarning: Series.__getitem__ treating keys as positions is deprecated. In a future version, integer keys will always be treated as labels (consistent with DataFrame behavior). To access a value by position, use `ser.iloc[pos]`\n",
      "  ).apply(lambda x: x[0])#[24*scalar_lag:]\n",
      "/Users/greg/Projects/sundl/notebooks/ficat/../../sundl/dataloader/sdocml.py:205: FutureWarning: Series.__getitem__ treating keys as positions is deprecated. In a future version, integer keys will always be treated as labels (consistent with DataFrame behavior). To access a value by position, use `ser.iloc[pos]`\n",
      "  ).apply(lambda x: x[0])#[24*scalar_lag:]\n",
      "/Users/greg/Projects/sundl/notebooks/ficat/../../sundl/dataloader/sdocml.py:205: FutureWarning: Series.__getitem__ treating keys as positions is deprecated. In a future version, integer keys will always be treated as labels (consistent with DataFrame behavior). To access a value by position, use `ser.iloc[pos]`\n",
      "  ).apply(lambda x: x[0])#[24*scalar_lag:]\n",
      "/Users/greg/Projects/sundl/notebooks/ficat/../../sundl/dataloader/sdocml.py:205: FutureWarning: Series.__getitem__ treating keys as positions is deprecated. In a future version, integer keys will always be treated as labels (consistent with DataFrame behavior). To access a value by position, use `ser.iloc[pos]`\n",
      "  ).apply(lambda x: x[0])#[24*scalar_lag:]\n",
      "/Users/greg/Projects/sundl/notebooks/ficat/../../sundl/dataloader/sdocml.py:205: FutureWarning: Series.__getitem__ treating keys as positions is deprecated. In a future version, integer keys will always be treated as labels (consistent with DataFrame behavior). To access a value by position, use `ser.iloc[pos]`\n",
      "  ).apply(lambda x: x[0])#[24*scalar_lag:]\n",
      "/Users/greg/Projects/sundl/notebooks/ficat/../../sundl/dataloader/sdocml.py:205: FutureWarning: Series.__getitem__ treating keys as positions is deprecated. In a future version, integer keys will always be treated as labels (consistent with DataFrame behavior). To access a value by position, use `ser.iloc[pos]`\n",
      "  ).apply(lambda x: x[0])#[24*scalar_lag:]\n",
      "/Users/greg/Projects/sundl/notebooks/ficat/../../sundl/dataloader/sdocml.py:205: FutureWarning: Series.__getitem__ treating keys as positions is deprecated. In a future version, integer keys will always be treated as labels (consistent with DataFrame behavior). To access a value by position, use `ser.iloc[pos]`\n",
      "  ).apply(lambda x: x[0])#[24*scalar_lag:]\n",
      "/Users/greg/Projects/sundl/notebooks/ficat/../../sundl/dataloader/sdocml.py:205: FutureWarning: Series.__getitem__ treating keys as positions is deprecated. In a future version, integer keys will always be treated as labels (consistent with DataFrame behavior). To access a value by position, use `ser.iloc[pos]`\n",
      "  ).apply(lambda x: x[0])#[24*scalar_lag:]\n",
      "/Users/greg/Projects/sundl/notebooks/ficat/../../sundl/dataloader/sdocml.py:205: FutureWarning: Series.__getitem__ treating keys as positions is deprecated. In a future version, integer keys will always be treated as labels (consistent with DataFrame behavior). To access a value by position, use `ser.iloc[pos]`\n",
      "  ).apply(lambda x: x[0])#[24*scalar_lag:]\n",
      "/Users/greg/Projects/sundl/notebooks/ficat/../../sundl/dataloader/sdocml.py:205: FutureWarning: Series.__getitem__ treating keys as positions is deprecated. In a future version, integer keys will always be treated as labels (consistent with DataFrame behavior). To access a value by position, use `ser.iloc[pos]`\n",
      "  ).apply(lambda x: x[0])#[24*scalar_lag:]\n"
     ]
    },
    {
     "name": "stdout",
     "output_type": "stream",
     "text": [
      "------------------------------\n",
      "labels.shape (266, 12)\n",
      "------------------------------\n",
      "3 incomplete training dates\n",
      "3 incomplete val dates\n",
      "\n",
      "MODEL PARAMETERS #: 20.00M\n",
      "of which trainable #: tf.Tensor(4471, shape=(), dtype=int32)\n",
      "Epoch 1/2\n",
      "13/13 [==============================] - ETA: 0s - loss: 180102.9688 - mae: 414.2378 - maep: 100.0111 - rmse: 424.3854\n",
      "Epoch 1: val_rmse did not improve from 85.00000\n",
      "13/13 [==============================] - 45s 3s/step - loss: 180102.9688 - mae: 414.2378 - maep: 100.0111 - rmse: 424.3854 - val_loss: 188800.5938 - val_mae: 424.4369 - val_maep: 99.9477 - val_rmse: 434.5119\n",
      "Epoch 2/2\n",
      "13/13 [==============================] - ETA: 0s - loss: 179888.8594 - mae: 413.9850 - maep: 99.9485 - rmse: 424.1331\n",
      "Epoch 2: val_rmse did not improve from 85.00000\n",
      "13/13 [==============================] - 31s 2s/step - loss: 179888.8594 - mae: 413.9850 - maep: 99.9485 - rmse: 424.1331 - val_loss: 187997.1875 - val_mae: 423.5271 - val_maep: 99.7273 - val_rmse: 433.5864\n"
     ]
    },
    {
     "name": "stderr",
     "output_type": "stream",
     "text": [
      "100%|██████████| 1/1 [03:45<00:00, 225.19s/it]"
     ]
    },
    {
     "name": "stdout",
     "output_type": "stream",
     "text": [
      "Train  loss:  ['1.80e+05', '1.80e+05']\n",
      "Train  mae:  ['414.24', '413.98']\n",
      "Train  maep:  ['100.01', '99.95']\n",
      "Train  rmse:  ['424.39', '424.13']\n",
      "\n",
      "Val val_loss:  ['1.89e+05', '1.88e+05']\n",
      "Val val_mae:  ['424.44', '423.53']\n",
      "Val val_maep:  ['99.95', '99.73']\n",
      "Val val_rmse:  ['434.51', '433.59']\n"
     ]
    },
    {
     "name": "stderr",
     "output_type": "stream",
     "text": [
      "\n",
      " 20%|██        | 1/5 [03:46<15:05, 226.39s/it]"
     ]
    },
    {
     "name": "stdout",
     "output_type": "stream",
     "text": [
      "\n",
      "\n",
      "-----------------------------\n",
      "Model : SW_EfN2S_SpX16_Ptrd_Lx12Hx6Dx12_ScBs_0193x0211x0094_12\n",
      "\n",
      "\n",
      "-----------------------------\n",
      "Model : SW_EfN2S_SpX16_Ptrd_Lx12Hx6Dx12_ScBs_0193x0211x0094_12\n",
      "FOLD #0\n",
      "\n",
      "DS TRAINING : \n"
     ]
    },
    {
     "name": "stderr",
     "output_type": "stream",
     "text": [
      "/Users/greg/Projects/sundl/notebooks/ficat/../../sundl/dataloader/sdocml.py:194: FutureWarning: Series.__getitem__ treating keys as positions is deprecated. In a future version, integer keys will always be treated as labels (consistent with DataFrame behavior). To access a value by position, use `ser.iloc[pos]`\n",
      "  ).apply(lambda x: x[-1]).shift(freq = f'-{offLabel}H')#[:-int(offLabel/2)]\n"
     ]
    },
    {
     "name": "stdout",
     "output_type": "stream",
     "text": [
      "WARNING : 61 NaN (droped) for label at ts 12\n"
     ]
    },
    {
     "name": "stderr",
     "output_type": "stream",
     "text": [
      "/Users/greg/Projects/sundl/notebooks/ficat/../../sundl/dataloader/sdocml.py:194: FutureWarning: Series.__getitem__ treating keys as positions is deprecated. In a future version, integer keys will always be treated as labels (consistent with DataFrame behavior). To access a value by position, use `ser.iloc[pos]`\n",
      "  ).apply(lambda x: x[-1]).shift(freq = f'-{offLabel}H')#[:-int(offLabel/2)]\n"
     ]
    },
    {
     "name": "stdout",
     "output_type": "stream",
     "text": [
      "WARNING : 67 NaN (droped) for label at ts 24\n"
     ]
    },
    {
     "name": "stderr",
     "output_type": "stream",
     "text": [
      "/Users/greg/Projects/sundl/notebooks/ficat/../../sundl/dataloader/sdocml.py:194: FutureWarning: Series.__getitem__ treating keys as positions is deprecated. In a future version, integer keys will always be treated as labels (consistent with DataFrame behavior). To access a value by position, use `ser.iloc[pos]`\n",
      "  ).apply(lambda x: x[-1]).shift(freq = f'-{offLabel}H')#[:-int(offLabel/2)]\n"
     ]
    },
    {
     "name": "stdout",
     "output_type": "stream",
     "text": [
      "WARNING : 73 NaN (droped) for label at ts 36\n"
     ]
    },
    {
     "name": "stderr",
     "output_type": "stream",
     "text": [
      "/Users/greg/Projects/sundl/notebooks/ficat/../../sundl/dataloader/sdocml.py:194: FutureWarning: Series.__getitem__ treating keys as positions is deprecated. In a future version, integer keys will always be treated as labels (consistent with DataFrame behavior). To access a value by position, use `ser.iloc[pos]`\n",
      "  ).apply(lambda x: x[-1]).shift(freq = f'-{offLabel}H')#[:-int(offLabel/2)]\n"
     ]
    },
    {
     "name": "stdout",
     "output_type": "stream",
     "text": [
      "WARNING : 79 NaN (droped) for label at ts 48\n"
     ]
    },
    {
     "name": "stderr",
     "output_type": "stream",
     "text": [
      "/Users/greg/Projects/sundl/notebooks/ficat/../../sundl/dataloader/sdocml.py:194: FutureWarning: Series.__getitem__ treating keys as positions is deprecated. In a future version, integer keys will always be treated as labels (consistent with DataFrame behavior). To access a value by position, use `ser.iloc[pos]`\n",
      "  ).apply(lambda x: x[-1]).shift(freq = f'-{offLabel}H')#[:-int(offLabel/2)]\n"
     ]
    },
    {
     "name": "stdout",
     "output_type": "stream",
     "text": [
      "WARNING : 85 NaN (droped) for label at ts 60\n"
     ]
    },
    {
     "name": "stderr",
     "output_type": "stream",
     "text": [
      "/Users/greg/Projects/sundl/notebooks/ficat/../../sundl/dataloader/sdocml.py:194: FutureWarning: Series.__getitem__ treating keys as positions is deprecated. In a future version, integer keys will always be treated as labels (consistent with DataFrame behavior). To access a value by position, use `ser.iloc[pos]`\n",
      "  ).apply(lambda x: x[-1]).shift(freq = f'-{offLabel}H')#[:-int(offLabel/2)]\n"
     ]
    },
    {
     "name": "stdout",
     "output_type": "stream",
     "text": [
      "WARNING : 91 NaN (droped) for label at ts 72\n"
     ]
    },
    {
     "name": "stderr",
     "output_type": "stream",
     "text": [
      "/Users/greg/Projects/sundl/notebooks/ficat/../../sundl/dataloader/sdocml.py:194: FutureWarning: Series.__getitem__ treating keys as positions is deprecated. In a future version, integer keys will always be treated as labels (consistent with DataFrame behavior). To access a value by position, use `ser.iloc[pos]`\n",
      "  ).apply(lambda x: x[-1]).shift(freq = f'-{offLabel}H')#[:-int(offLabel/2)]\n"
     ]
    },
    {
     "name": "stdout",
     "output_type": "stream",
     "text": [
      "WARNING : 97 NaN (droped) for label at ts 84\n"
     ]
    },
    {
     "name": "stderr",
     "output_type": "stream",
     "text": [
      "/Users/greg/Projects/sundl/notebooks/ficat/../../sundl/dataloader/sdocml.py:194: FutureWarning: Series.__getitem__ treating keys as positions is deprecated. In a future version, integer keys will always be treated as labels (consistent with DataFrame behavior). To access a value by position, use `ser.iloc[pos]`\n",
      "  ).apply(lambda x: x[-1]).shift(freq = f'-{offLabel}H')#[:-int(offLabel/2)]\n"
     ]
    },
    {
     "name": "stdout",
     "output_type": "stream",
     "text": [
      "WARNING : 103 NaN (droped) for label at ts 96\n"
     ]
    },
    {
     "name": "stderr",
     "output_type": "stream",
     "text": [
      "/Users/greg/Projects/sundl/notebooks/ficat/../../sundl/dataloader/sdocml.py:194: FutureWarning: Series.__getitem__ treating keys as positions is deprecated. In a future version, integer keys will always be treated as labels (consistent with DataFrame behavior). To access a value by position, use `ser.iloc[pos]`\n",
      "  ).apply(lambda x: x[-1]).shift(freq = f'-{offLabel}H')#[:-int(offLabel/2)]\n"
     ]
    },
    {
     "name": "stdout",
     "output_type": "stream",
     "text": [
      "WARNING : 109 NaN (droped) for label at ts 108\n"
     ]
    },
    {
     "name": "stderr",
     "output_type": "stream",
     "text": [
      "/Users/greg/Projects/sundl/notebooks/ficat/../../sundl/dataloader/sdocml.py:194: FutureWarning: Series.__getitem__ treating keys as positions is deprecated. In a future version, integer keys will always be treated as labels (consistent with DataFrame behavior). To access a value by position, use `ser.iloc[pos]`\n",
      "  ).apply(lambda x: x[-1]).shift(freq = f'-{offLabel}H')#[:-int(offLabel/2)]\n"
     ]
    },
    {
     "name": "stdout",
     "output_type": "stream",
     "text": [
      "WARNING : 115 NaN (droped) for label at ts 120\n"
     ]
    },
    {
     "name": "stderr",
     "output_type": "stream",
     "text": [
      "/Users/greg/Projects/sundl/notebooks/ficat/../../sundl/dataloader/sdocml.py:194: FutureWarning: Series.__getitem__ treating keys as positions is deprecated. In a future version, integer keys will always be treated as labels (consistent with DataFrame behavior). To access a value by position, use `ser.iloc[pos]`\n",
      "  ).apply(lambda x: x[-1]).shift(freq = f'-{offLabel}H')#[:-int(offLabel/2)]\n"
     ]
    },
    {
     "name": "stdout",
     "output_type": "stream",
     "text": [
      "WARNING : 121 NaN (droped) for label at ts 132\n"
     ]
    },
    {
     "name": "stderr",
     "output_type": "stream",
     "text": [
      "/Users/greg/Projects/sundl/notebooks/ficat/../../sundl/dataloader/sdocml.py:194: FutureWarning: Series.__getitem__ treating keys as positions is deprecated. In a future version, integer keys will always be treated as labels (consistent with DataFrame behavior). To access a value by position, use `ser.iloc[pos]`\n",
      "  ).apply(lambda x: x[-1]).shift(freq = f'-{offLabel}H')#[:-int(offLabel/2)]\n"
     ]
    },
    {
     "name": "stdout",
     "output_type": "stream",
     "text": [
      "WARNING : 127 NaN (droped) for label at ts 144\n"
     ]
    },
    {
     "name": "stderr",
     "output_type": "stream",
     "text": [
      "/Users/greg/Projects/sundl/notebooks/ficat/../../sundl/dataloader/sdocml.py:205: FutureWarning: Series.__getitem__ treating keys as positions is deprecated. In a future version, integer keys will always be treated as labels (consistent with DataFrame behavior). To access a value by position, use `ser.iloc[pos]`\n",
      "  ).apply(lambda x: x[0])#[24*scalar_lag:]\n",
      "/Users/greg/Projects/sundl/notebooks/ficat/../../sundl/dataloader/sdocml.py:205: FutureWarning: Series.__getitem__ treating keys as positions is deprecated. In a future version, integer keys will always be treated as labels (consistent with DataFrame behavior). To access a value by position, use `ser.iloc[pos]`\n",
      "  ).apply(lambda x: x[0])#[24*scalar_lag:]\n",
      "/Users/greg/Projects/sundl/notebooks/ficat/../../sundl/dataloader/sdocml.py:205: FutureWarning: Series.__getitem__ treating keys as positions is deprecated. In a future version, integer keys will always be treated as labels (consistent with DataFrame behavior). To access a value by position, use `ser.iloc[pos]`\n",
      "  ).apply(lambda x: x[0])#[24*scalar_lag:]\n",
      "/Users/greg/Projects/sundl/notebooks/ficat/../../sundl/dataloader/sdocml.py:205: FutureWarning: Series.__getitem__ treating keys as positions is deprecated. In a future version, integer keys will always be treated as labels (consistent with DataFrame behavior). To access a value by position, use `ser.iloc[pos]`\n",
      "  ).apply(lambda x: x[0])#[24*scalar_lag:]\n",
      "/Users/greg/Projects/sundl/notebooks/ficat/../../sundl/dataloader/sdocml.py:205: FutureWarning: Series.__getitem__ treating keys as positions is deprecated. In a future version, integer keys will always be treated as labels (consistent with DataFrame behavior). To access a value by position, use `ser.iloc[pos]`\n",
      "  ).apply(lambda x: x[0])#[24*scalar_lag:]\n",
      "/Users/greg/Projects/sundl/notebooks/ficat/../../sundl/dataloader/sdocml.py:205: FutureWarning: Series.__getitem__ treating keys as positions is deprecated. In a future version, integer keys will always be treated as labels (consistent with DataFrame behavior). To access a value by position, use `ser.iloc[pos]`\n",
      "  ).apply(lambda x: x[0])#[24*scalar_lag:]\n",
      "/Users/greg/Projects/sundl/notebooks/ficat/../../sundl/dataloader/sdocml.py:205: FutureWarning: Series.__getitem__ treating keys as positions is deprecated. In a future version, integer keys will always be treated as labels (consistent with DataFrame behavior). To access a value by position, use `ser.iloc[pos]`\n",
      "  ).apply(lambda x: x[0])#[24*scalar_lag:]\n",
      "/Users/greg/Projects/sundl/notebooks/ficat/../../sundl/dataloader/sdocml.py:205: FutureWarning: Series.__getitem__ treating keys as positions is deprecated. In a future version, integer keys will always be treated as labels (consistent with DataFrame behavior). To access a value by position, use `ser.iloc[pos]`\n",
      "  ).apply(lambda x: x[0])#[24*scalar_lag:]\n",
      "/Users/greg/Projects/sundl/notebooks/ficat/../../sundl/dataloader/sdocml.py:205: FutureWarning: Series.__getitem__ treating keys as positions is deprecated. In a future version, integer keys will always be treated as labels (consistent with DataFrame behavior). To access a value by position, use `ser.iloc[pos]`\n",
      "  ).apply(lambda x: x[0])#[24*scalar_lag:]\n",
      "/Users/greg/Projects/sundl/notebooks/ficat/../../sundl/dataloader/sdocml.py:205: FutureWarning: Series.__getitem__ treating keys as positions is deprecated. In a future version, integer keys will always be treated as labels (consistent with DataFrame behavior). To access a value by position, use `ser.iloc[pos]`\n",
      "  ).apply(lambda x: x[0])#[24*scalar_lag:]\n",
      "/Users/greg/Projects/sundl/notebooks/ficat/../../sundl/dataloader/sdocml.py:205: FutureWarning: Series.__getitem__ treating keys as positions is deprecated. In a future version, integer keys will always be treated as labels (consistent with DataFrame behavior). To access a value by position, use `ser.iloc[pos]`\n",
      "  ).apply(lambda x: x[0])#[24*scalar_lag:]\n",
      "/Users/greg/Projects/sundl/notebooks/ficat/../../sundl/dataloader/sdocml.py:205: FutureWarning: Series.__getitem__ treating keys as positions is deprecated. In a future version, integer keys will always be treated as labels (consistent with DataFrame behavior). To access a value by position, use `ser.iloc[pos]`\n",
      "  ).apply(lambda x: x[0])#[24*scalar_lag:]\n"
     ]
    },
    {
     "name": "stdout",
     "output_type": "stream",
     "text": [
      "------------------------------\n",
      "labels.shape (205, 12)\n",
      "------------------------------\n",
      "\n",
      "DS VALIDATION : \n"
     ]
    },
    {
     "name": "stderr",
     "output_type": "stream",
     "text": [
      "/Users/greg/Projects/sundl/notebooks/ficat/../../sundl/dataloader/sdocml.py:194: FutureWarning: Series.__getitem__ treating keys as positions is deprecated. In a future version, integer keys will always be treated as labels (consistent with DataFrame behavior). To access a value by position, use `ser.iloc[pos]`\n",
      "  ).apply(lambda x: x[-1]).shift(freq = f'-{offLabel}H')#[:-int(offLabel/2)]\n"
     ]
    },
    {
     "name": "stdout",
     "output_type": "stream",
     "text": [
      "WARNING : 61 NaN (droped) for label at ts 12\n"
     ]
    },
    {
     "name": "stderr",
     "output_type": "stream",
     "text": [
      "/Users/greg/Projects/sundl/notebooks/ficat/../../sundl/dataloader/sdocml.py:194: FutureWarning: Series.__getitem__ treating keys as positions is deprecated. In a future version, integer keys will always be treated as labels (consistent with DataFrame behavior). To access a value by position, use `ser.iloc[pos]`\n",
      "  ).apply(lambda x: x[-1]).shift(freq = f'-{offLabel}H')#[:-int(offLabel/2)]\n"
     ]
    },
    {
     "name": "stdout",
     "output_type": "stream",
     "text": [
      "WARNING : 67 NaN (droped) for label at ts 24\n"
     ]
    },
    {
     "name": "stderr",
     "output_type": "stream",
     "text": [
      "/Users/greg/Projects/sundl/notebooks/ficat/../../sundl/dataloader/sdocml.py:194: FutureWarning: Series.__getitem__ treating keys as positions is deprecated. In a future version, integer keys will always be treated as labels (consistent with DataFrame behavior). To access a value by position, use `ser.iloc[pos]`\n",
      "  ).apply(lambda x: x[-1]).shift(freq = f'-{offLabel}H')#[:-int(offLabel/2)]\n"
     ]
    },
    {
     "name": "stdout",
     "output_type": "stream",
     "text": [
      "WARNING : 73 NaN (droped) for label at ts 36\n"
     ]
    },
    {
     "name": "stderr",
     "output_type": "stream",
     "text": [
      "/Users/greg/Projects/sundl/notebooks/ficat/../../sundl/dataloader/sdocml.py:194: FutureWarning: Series.__getitem__ treating keys as positions is deprecated. In a future version, integer keys will always be treated as labels (consistent with DataFrame behavior). To access a value by position, use `ser.iloc[pos]`\n",
      "  ).apply(lambda x: x[-1]).shift(freq = f'-{offLabel}H')#[:-int(offLabel/2)]\n"
     ]
    },
    {
     "name": "stdout",
     "output_type": "stream",
     "text": [
      "WARNING : 79 NaN (droped) for label at ts 48\n"
     ]
    },
    {
     "name": "stderr",
     "output_type": "stream",
     "text": [
      "/Users/greg/Projects/sundl/notebooks/ficat/../../sundl/dataloader/sdocml.py:194: FutureWarning: Series.__getitem__ treating keys as positions is deprecated. In a future version, integer keys will always be treated as labels (consistent with DataFrame behavior). To access a value by position, use `ser.iloc[pos]`\n",
      "  ).apply(lambda x: x[-1]).shift(freq = f'-{offLabel}H')#[:-int(offLabel/2)]\n"
     ]
    },
    {
     "name": "stdout",
     "output_type": "stream",
     "text": [
      "WARNING : 85 NaN (droped) for label at ts 60\n"
     ]
    },
    {
     "name": "stderr",
     "output_type": "stream",
     "text": [
      "/Users/greg/Projects/sundl/notebooks/ficat/../../sundl/dataloader/sdocml.py:194: FutureWarning: Series.__getitem__ treating keys as positions is deprecated. In a future version, integer keys will always be treated as labels (consistent with DataFrame behavior). To access a value by position, use `ser.iloc[pos]`\n",
      "  ).apply(lambda x: x[-1]).shift(freq = f'-{offLabel}H')#[:-int(offLabel/2)]\n"
     ]
    },
    {
     "name": "stdout",
     "output_type": "stream",
     "text": [
      "WARNING : 91 NaN (droped) for label at ts 72\n"
     ]
    },
    {
     "name": "stderr",
     "output_type": "stream",
     "text": [
      "/Users/greg/Projects/sundl/notebooks/ficat/../../sundl/dataloader/sdocml.py:194: FutureWarning: Series.__getitem__ treating keys as positions is deprecated. In a future version, integer keys will always be treated as labels (consistent with DataFrame behavior). To access a value by position, use `ser.iloc[pos]`\n",
      "  ).apply(lambda x: x[-1]).shift(freq = f'-{offLabel}H')#[:-int(offLabel/2)]\n"
     ]
    },
    {
     "name": "stdout",
     "output_type": "stream",
     "text": [
      "WARNING : 97 NaN (droped) for label at ts 84\n"
     ]
    },
    {
     "name": "stderr",
     "output_type": "stream",
     "text": [
      "/Users/greg/Projects/sundl/notebooks/ficat/../../sundl/dataloader/sdocml.py:194: FutureWarning: Series.__getitem__ treating keys as positions is deprecated. In a future version, integer keys will always be treated as labels (consistent with DataFrame behavior). To access a value by position, use `ser.iloc[pos]`\n",
      "  ).apply(lambda x: x[-1]).shift(freq = f'-{offLabel}H')#[:-int(offLabel/2)]\n"
     ]
    },
    {
     "name": "stdout",
     "output_type": "stream",
     "text": [
      "WARNING : 103 NaN (droped) for label at ts 96\n"
     ]
    },
    {
     "name": "stderr",
     "output_type": "stream",
     "text": [
      "/Users/greg/Projects/sundl/notebooks/ficat/../../sundl/dataloader/sdocml.py:194: FutureWarning: Series.__getitem__ treating keys as positions is deprecated. In a future version, integer keys will always be treated as labels (consistent with DataFrame behavior). To access a value by position, use `ser.iloc[pos]`\n",
      "  ).apply(lambda x: x[-1]).shift(freq = f'-{offLabel}H')#[:-int(offLabel/2)]\n"
     ]
    },
    {
     "name": "stdout",
     "output_type": "stream",
     "text": [
      "WARNING : 109 NaN (droped) for label at ts 108\n"
     ]
    },
    {
     "name": "stderr",
     "output_type": "stream",
     "text": [
      "/Users/greg/Projects/sundl/notebooks/ficat/../../sundl/dataloader/sdocml.py:194: FutureWarning: Series.__getitem__ treating keys as positions is deprecated. In a future version, integer keys will always be treated as labels (consistent with DataFrame behavior). To access a value by position, use `ser.iloc[pos]`\n",
      "  ).apply(lambda x: x[-1]).shift(freq = f'-{offLabel}H')#[:-int(offLabel/2)]\n"
     ]
    },
    {
     "name": "stdout",
     "output_type": "stream",
     "text": [
      "WARNING : 115 NaN (droped) for label at ts 120\n"
     ]
    },
    {
     "name": "stderr",
     "output_type": "stream",
     "text": [
      "/Users/greg/Projects/sundl/notebooks/ficat/../../sundl/dataloader/sdocml.py:194: FutureWarning: Series.__getitem__ treating keys as positions is deprecated. In a future version, integer keys will always be treated as labels (consistent with DataFrame behavior). To access a value by position, use `ser.iloc[pos]`\n",
      "  ).apply(lambda x: x[-1]).shift(freq = f'-{offLabel}H')#[:-int(offLabel/2)]\n"
     ]
    },
    {
     "name": "stdout",
     "output_type": "stream",
     "text": [
      "WARNING : 121 NaN (droped) for label at ts 132\n"
     ]
    },
    {
     "name": "stderr",
     "output_type": "stream",
     "text": [
      "/Users/greg/Projects/sundl/notebooks/ficat/../../sundl/dataloader/sdocml.py:194: FutureWarning: Series.__getitem__ treating keys as positions is deprecated. In a future version, integer keys will always be treated as labels (consistent with DataFrame behavior). To access a value by position, use `ser.iloc[pos]`\n",
      "  ).apply(lambda x: x[-1]).shift(freq = f'-{offLabel}H')#[:-int(offLabel/2)]\n"
     ]
    },
    {
     "name": "stdout",
     "output_type": "stream",
     "text": [
      "WARNING : 127 NaN (droped) for label at ts 144\n"
     ]
    },
    {
     "name": "stderr",
     "output_type": "stream",
     "text": [
      "/Users/greg/Projects/sundl/notebooks/ficat/../../sundl/dataloader/sdocml.py:205: FutureWarning: Series.__getitem__ treating keys as positions is deprecated. In a future version, integer keys will always be treated as labels (consistent with DataFrame behavior). To access a value by position, use `ser.iloc[pos]`\n",
      "  ).apply(lambda x: x[0])#[24*scalar_lag:]\n",
      "/Users/greg/Projects/sundl/notebooks/ficat/../../sundl/dataloader/sdocml.py:205: FutureWarning: Series.__getitem__ treating keys as positions is deprecated. In a future version, integer keys will always be treated as labels (consistent with DataFrame behavior). To access a value by position, use `ser.iloc[pos]`\n",
      "  ).apply(lambda x: x[0])#[24*scalar_lag:]\n",
      "/Users/greg/Projects/sundl/notebooks/ficat/../../sundl/dataloader/sdocml.py:205: FutureWarning: Series.__getitem__ treating keys as positions is deprecated. In a future version, integer keys will always be treated as labels (consistent with DataFrame behavior). To access a value by position, use `ser.iloc[pos]`\n",
      "  ).apply(lambda x: x[0])#[24*scalar_lag:]\n",
      "/Users/greg/Projects/sundl/notebooks/ficat/../../sundl/dataloader/sdocml.py:205: FutureWarning: Series.__getitem__ treating keys as positions is deprecated. In a future version, integer keys will always be treated as labels (consistent with DataFrame behavior). To access a value by position, use `ser.iloc[pos]`\n",
      "  ).apply(lambda x: x[0])#[24*scalar_lag:]\n",
      "/Users/greg/Projects/sundl/notebooks/ficat/../../sundl/dataloader/sdocml.py:205: FutureWarning: Series.__getitem__ treating keys as positions is deprecated. In a future version, integer keys will always be treated as labels (consistent with DataFrame behavior). To access a value by position, use `ser.iloc[pos]`\n",
      "  ).apply(lambda x: x[0])#[24*scalar_lag:]\n",
      "/Users/greg/Projects/sundl/notebooks/ficat/../../sundl/dataloader/sdocml.py:205: FutureWarning: Series.__getitem__ treating keys as positions is deprecated. In a future version, integer keys will always be treated as labels (consistent with DataFrame behavior). To access a value by position, use `ser.iloc[pos]`\n",
      "  ).apply(lambda x: x[0])#[24*scalar_lag:]\n",
      "/Users/greg/Projects/sundl/notebooks/ficat/../../sundl/dataloader/sdocml.py:205: FutureWarning: Series.__getitem__ treating keys as positions is deprecated. In a future version, integer keys will always be treated as labels (consistent with DataFrame behavior). To access a value by position, use `ser.iloc[pos]`\n",
      "  ).apply(lambda x: x[0])#[24*scalar_lag:]\n",
      "/Users/greg/Projects/sundl/notebooks/ficat/../../sundl/dataloader/sdocml.py:205: FutureWarning: Series.__getitem__ treating keys as positions is deprecated. In a future version, integer keys will always be treated as labels (consistent with DataFrame behavior). To access a value by position, use `ser.iloc[pos]`\n",
      "  ).apply(lambda x: x[0])#[24*scalar_lag:]\n",
      "/Users/greg/Projects/sundl/notebooks/ficat/../../sundl/dataloader/sdocml.py:205: FutureWarning: Series.__getitem__ treating keys as positions is deprecated. In a future version, integer keys will always be treated as labels (consistent with DataFrame behavior). To access a value by position, use `ser.iloc[pos]`\n",
      "  ).apply(lambda x: x[0])#[24*scalar_lag:]\n",
      "/Users/greg/Projects/sundl/notebooks/ficat/../../sundl/dataloader/sdocml.py:205: FutureWarning: Series.__getitem__ treating keys as positions is deprecated. In a future version, integer keys will always be treated as labels (consistent with DataFrame behavior). To access a value by position, use `ser.iloc[pos]`\n",
      "  ).apply(lambda x: x[0])#[24*scalar_lag:]\n",
      "/Users/greg/Projects/sundl/notebooks/ficat/../../sundl/dataloader/sdocml.py:205: FutureWarning: Series.__getitem__ treating keys as positions is deprecated. In a future version, integer keys will always be treated as labels (consistent with DataFrame behavior). To access a value by position, use `ser.iloc[pos]`\n",
      "  ).apply(lambda x: x[0])#[24*scalar_lag:]\n",
      "/Users/greg/Projects/sundl/notebooks/ficat/../../sundl/dataloader/sdocml.py:205: FutureWarning: Series.__getitem__ treating keys as positions is deprecated. In a future version, integer keys will always be treated as labels (consistent with DataFrame behavior). To access a value by position, use `ser.iloc[pos]`\n",
      "  ).apply(lambda x: x[0])#[24*scalar_lag:]\n"
     ]
    },
    {
     "name": "stdout",
     "output_type": "stream",
     "text": [
      "------------------------------\n",
      "labels.shape (266, 12)\n",
      "------------------------------\n",
      "3 incomplete training dates\n",
      "3 incomplete val dates\n",
      "\n",
      "MODEL PARAMETERS #: 20.00M\n",
      "of which trainable #: tf.Tensor(4303, shape=(), dtype=int32)\n",
      "Epoch 1/2\n",
      "13/13 [==============================] - ETA: 0s - loss: 8466.4033 - mae: 268.7278 - maep: 63.6811 - rmse: 331.4475\n",
      "Epoch 1: val_rmse did not improve from 85.00000\n",
      "13/13 [==============================] - 48s 3s/step - loss: 8466.4033 - mae: 268.7278 - maep: 63.6811 - rmse: 331.4475 - val_loss: 10557.7402 - val_mae: 76.2914 - val_maep: 17.9457 - val_rmse: 102.7509\n",
      "Epoch 2/2\n",
      "13/13 [==============================] - ETA: 0s - loss: 8453.0254 - mae: 67.8275 - maep: 16.8979 - rmse: 91.9403\n",
      "Epoch 2: val_rmse did not improve from 85.00000\n",
      "13/13 [==============================] - 30s 2s/step - loss: 8453.0254 - mae: 67.8275 - maep: 16.8979 - rmse: 91.9403 - val_loss: 10555.6602 - val_mae: 76.2753 - val_maep: 17.9411 - val_rmse: 102.7407\n"
     ]
    },
    {
     "name": "stderr",
     "output_type": "stream",
     "text": [
      "100%|██████████| 1/1 [04:03<00:00, 243.25s/it]"
     ]
    },
    {
     "name": "stdout",
     "output_type": "stream",
     "text": [
      "Train  loss:  ['8.47e+03', '8.45e+03']\n",
      "Train  mae:  ['268.73', '67.83']\n",
      "Train  maep:  ['63.68', '16.90']\n",
      "Train  rmse:  ['331.45', '91.94']\n",
      "\n",
      "Val val_loss:  ['1.06e+04', '1.06e+04']\n",
      "Val val_mae:  ['76.29', '76.28']\n",
      "Val val_maep:  ['17.95', '17.94']\n",
      "Val val_rmse:  ['102.75', '102.74']\n"
     ]
    },
    {
     "name": "stderr",
     "output_type": "stream",
     "text": [
      "\n",
      " 40%|████      | 2/5 [07:50<11:50, 236.77s/it]"
     ]
    },
    {
     "name": "stdout",
     "output_type": "stream",
     "text": [
      "\n",
      "\n",
      "-----------------------------\n",
      "Model : SW_Pst27___Lx12Hx6Dx12__12\n",
      "\n",
      "\n",
      "-----------------------------\n",
      "Model : SW_Pst27___Lx12Hx6Dx12__12\n",
      "FOLD #0\n",
      "\n",
      "DS TRAINING : \n"
     ]
    },
    {
     "name": "stderr",
     "output_type": "stream",
     "text": [
      "/Users/greg/Projects/sundl/notebooks/ficat/../../sundl/dataloader/sdocml.py:742: FutureWarning: Series.__getitem__ treating keys as positions is deprecated. In a future version, integer keys will always be treated as labels (consistent with DataFrame behavior). To access a value by position, use `ser.iloc[pos]`\n",
      "  ).apply(lambda x: x[-1]).shift(freq = f'-{offLabel}H')#[:-int(offLabel/2)]\n"
     ]
    },
    {
     "name": "stdout",
     "output_type": "stream",
     "text": [
      "WARNING : 61 NaN (droped) for label at ts 12\n"
     ]
    },
    {
     "name": "stderr",
     "output_type": "stream",
     "text": [
      "/Users/greg/Projects/sundl/notebooks/ficat/../../sundl/dataloader/sdocml.py:742: FutureWarning: Series.__getitem__ treating keys as positions is deprecated. In a future version, integer keys will always be treated as labels (consistent with DataFrame behavior). To access a value by position, use `ser.iloc[pos]`\n",
      "  ).apply(lambda x: x[-1]).shift(freq = f'-{offLabel}H')#[:-int(offLabel/2)]\n"
     ]
    },
    {
     "name": "stdout",
     "output_type": "stream",
     "text": [
      "WARNING : 67 NaN (droped) for label at ts 24\n"
     ]
    },
    {
     "name": "stderr",
     "output_type": "stream",
     "text": [
      "/Users/greg/Projects/sundl/notebooks/ficat/../../sundl/dataloader/sdocml.py:742: FutureWarning: Series.__getitem__ treating keys as positions is deprecated. In a future version, integer keys will always be treated as labels (consistent with DataFrame behavior). To access a value by position, use `ser.iloc[pos]`\n",
      "  ).apply(lambda x: x[-1]).shift(freq = f'-{offLabel}H')#[:-int(offLabel/2)]\n"
     ]
    },
    {
     "name": "stdout",
     "output_type": "stream",
     "text": [
      "WARNING : 73 NaN (droped) for label at ts 36\n"
     ]
    },
    {
     "name": "stderr",
     "output_type": "stream",
     "text": [
      "/Users/greg/Projects/sundl/notebooks/ficat/../../sundl/dataloader/sdocml.py:742: FutureWarning: Series.__getitem__ treating keys as positions is deprecated. In a future version, integer keys will always be treated as labels (consistent with DataFrame behavior). To access a value by position, use `ser.iloc[pos]`\n",
      "  ).apply(lambda x: x[-1]).shift(freq = f'-{offLabel}H')#[:-int(offLabel/2)]\n"
     ]
    },
    {
     "name": "stdout",
     "output_type": "stream",
     "text": [
      "WARNING : 79 NaN (droped) for label at ts 48\n"
     ]
    },
    {
     "name": "stderr",
     "output_type": "stream",
     "text": [
      "/Users/greg/Projects/sundl/notebooks/ficat/../../sundl/dataloader/sdocml.py:742: FutureWarning: Series.__getitem__ treating keys as positions is deprecated. In a future version, integer keys will always be treated as labels (consistent with DataFrame behavior). To access a value by position, use `ser.iloc[pos]`\n",
      "  ).apply(lambda x: x[-1]).shift(freq = f'-{offLabel}H')#[:-int(offLabel/2)]\n"
     ]
    },
    {
     "name": "stdout",
     "output_type": "stream",
     "text": [
      "WARNING : 85 NaN (droped) for label at ts 60\n"
     ]
    },
    {
     "name": "stderr",
     "output_type": "stream",
     "text": [
      "/Users/greg/Projects/sundl/notebooks/ficat/../../sundl/dataloader/sdocml.py:742: FutureWarning: Series.__getitem__ treating keys as positions is deprecated. In a future version, integer keys will always be treated as labels (consistent with DataFrame behavior). To access a value by position, use `ser.iloc[pos]`\n",
      "  ).apply(lambda x: x[-1]).shift(freq = f'-{offLabel}H')#[:-int(offLabel/2)]\n"
     ]
    },
    {
     "name": "stdout",
     "output_type": "stream",
     "text": [
      "WARNING : 91 NaN (droped) for label at ts 72\n"
     ]
    },
    {
     "name": "stderr",
     "output_type": "stream",
     "text": [
      "/Users/greg/Projects/sundl/notebooks/ficat/../../sundl/dataloader/sdocml.py:742: FutureWarning: Series.__getitem__ treating keys as positions is deprecated. In a future version, integer keys will always be treated as labels (consistent with DataFrame behavior). To access a value by position, use `ser.iloc[pos]`\n",
      "  ).apply(lambda x: x[-1]).shift(freq = f'-{offLabel}H')#[:-int(offLabel/2)]\n"
     ]
    },
    {
     "name": "stdout",
     "output_type": "stream",
     "text": [
      "WARNING : 97 NaN (droped) for label at ts 84\n"
     ]
    },
    {
     "name": "stderr",
     "output_type": "stream",
     "text": [
      "/Users/greg/Projects/sundl/notebooks/ficat/../../sundl/dataloader/sdocml.py:742: FutureWarning: Series.__getitem__ treating keys as positions is deprecated. In a future version, integer keys will always be treated as labels (consistent with DataFrame behavior). To access a value by position, use `ser.iloc[pos]`\n",
      "  ).apply(lambda x: x[-1]).shift(freq = f'-{offLabel}H')#[:-int(offLabel/2)]\n"
     ]
    },
    {
     "name": "stdout",
     "output_type": "stream",
     "text": [
      "WARNING : 103 NaN (droped) for label at ts 96\n"
     ]
    },
    {
     "name": "stderr",
     "output_type": "stream",
     "text": [
      "/Users/greg/Projects/sundl/notebooks/ficat/../../sundl/dataloader/sdocml.py:742: FutureWarning: Series.__getitem__ treating keys as positions is deprecated. In a future version, integer keys will always be treated as labels (consistent with DataFrame behavior). To access a value by position, use `ser.iloc[pos]`\n",
      "  ).apply(lambda x: x[-1]).shift(freq = f'-{offLabel}H')#[:-int(offLabel/2)]\n"
     ]
    },
    {
     "name": "stdout",
     "output_type": "stream",
     "text": [
      "WARNING : 109 NaN (droped) for label at ts 108\n"
     ]
    },
    {
     "name": "stderr",
     "output_type": "stream",
     "text": [
      "/Users/greg/Projects/sundl/notebooks/ficat/../../sundl/dataloader/sdocml.py:742: FutureWarning: Series.__getitem__ treating keys as positions is deprecated. In a future version, integer keys will always be treated as labels (consistent with DataFrame behavior). To access a value by position, use `ser.iloc[pos]`\n",
      "  ).apply(lambda x: x[-1]).shift(freq = f'-{offLabel}H')#[:-int(offLabel/2)]\n"
     ]
    },
    {
     "name": "stdout",
     "output_type": "stream",
     "text": [
      "WARNING : 115 NaN (droped) for label at ts 120\n"
     ]
    },
    {
     "name": "stderr",
     "output_type": "stream",
     "text": [
      "/Users/greg/Projects/sundl/notebooks/ficat/../../sundl/dataloader/sdocml.py:742: FutureWarning: Series.__getitem__ treating keys as positions is deprecated. In a future version, integer keys will always be treated as labels (consistent with DataFrame behavior). To access a value by position, use `ser.iloc[pos]`\n",
      "  ).apply(lambda x: x[-1]).shift(freq = f'-{offLabel}H')#[:-int(offLabel/2)]\n"
     ]
    },
    {
     "name": "stdout",
     "output_type": "stream",
     "text": [
      "WARNING : 121 NaN (droped) for label at ts 132\n"
     ]
    },
    {
     "name": "stderr",
     "output_type": "stream",
     "text": [
      "/Users/greg/Projects/sundl/notebooks/ficat/../../sundl/dataloader/sdocml.py:742: FutureWarning: Series.__getitem__ treating keys as positions is deprecated. In a future version, integer keys will always be treated as labels (consistent with DataFrame behavior). To access a value by position, use `ser.iloc[pos]`\n",
      "  ).apply(lambda x: x[-1]).shift(freq = f'-{offLabel}H')#[:-int(offLabel/2)]\n"
     ]
    },
    {
     "name": "stdout",
     "output_type": "stream",
     "text": [
      "WARNING : 127 NaN (droped) for label at ts 144\n"
     ]
    },
    {
     "name": "stderr",
     "output_type": "stream",
     "text": [
      "/Users/greg/Projects/sundl/notebooks/ficat/../../sundl/dataloader/sdocml.py:750: FutureWarning: Series.__getitem__ treating keys as positions is deprecated. In a future version, integer keys will always be treated as labels (consistent with DataFrame behavior). To access a value by position, use `ser.iloc[pos]`\n",
      "  ).apply(lambda x: x[0])#[24*history_lag:]\n"
     ]
    },
    {
     "name": "stdout",
     "output_type": "stream",
     "text": [
      "WARNING : 50 NaN (droped) for input at ts -636\n"
     ]
    },
    {
     "name": "stderr",
     "output_type": "stream",
     "text": [
      "/Users/greg/Projects/sundl/notebooks/ficat/../../sundl/dataloader/sdocml.py:750: FutureWarning: Series.__getitem__ treating keys as positions is deprecated. In a future version, integer keys will always be treated as labels (consistent with DataFrame behavior). To access a value by position, use `ser.iloc[pos]`\n",
      "  ).apply(lambda x: x[0])#[24*history_lag:]\n"
     ]
    },
    {
     "name": "stdout",
     "output_type": "stream",
     "text": [
      "WARNING : 50 NaN (droped) for input at ts -624\n"
     ]
    },
    {
     "name": "stderr",
     "output_type": "stream",
     "text": [
      "/Users/greg/Projects/sundl/notebooks/ficat/../../sundl/dataloader/sdocml.py:750: FutureWarning: Series.__getitem__ treating keys as positions is deprecated. In a future version, integer keys will always be treated as labels (consistent with DataFrame behavior). To access a value by position, use `ser.iloc[pos]`\n",
      "  ).apply(lambda x: x[0])#[24*history_lag:]\n"
     ]
    },
    {
     "name": "stdout",
     "output_type": "stream",
     "text": [
      "WARNING : 50 NaN (droped) for input at ts -612\n"
     ]
    },
    {
     "name": "stderr",
     "output_type": "stream",
     "text": [
      "/Users/greg/Projects/sundl/notebooks/ficat/../../sundl/dataloader/sdocml.py:750: FutureWarning: Series.__getitem__ treating keys as positions is deprecated. In a future version, integer keys will always be treated as labels (consistent with DataFrame behavior). To access a value by position, use `ser.iloc[pos]`\n",
      "  ).apply(lambda x: x[0])#[24*history_lag:]\n"
     ]
    },
    {
     "name": "stdout",
     "output_type": "stream",
     "text": [
      "WARNING : 50 NaN (droped) for input at ts -600\n"
     ]
    },
    {
     "name": "stderr",
     "output_type": "stream",
     "text": [
      "/Users/greg/Projects/sundl/notebooks/ficat/../../sundl/dataloader/sdocml.py:750: FutureWarning: Series.__getitem__ treating keys as positions is deprecated. In a future version, integer keys will always be treated as labels (consistent with DataFrame behavior). To access a value by position, use `ser.iloc[pos]`\n",
      "  ).apply(lambda x: x[0])#[24*history_lag:]\n"
     ]
    },
    {
     "name": "stdout",
     "output_type": "stream",
     "text": [
      "WARNING : 50 NaN (droped) for input at ts -588\n"
     ]
    },
    {
     "name": "stderr",
     "output_type": "stream",
     "text": [
      "/Users/greg/Projects/sundl/notebooks/ficat/../../sundl/dataloader/sdocml.py:750: FutureWarning: Series.__getitem__ treating keys as positions is deprecated. In a future version, integer keys will always be treated as labels (consistent with DataFrame behavior). To access a value by position, use `ser.iloc[pos]`\n",
      "  ).apply(lambda x: x[0])#[24*history_lag:]\n"
     ]
    },
    {
     "name": "stdout",
     "output_type": "stream",
     "text": [
      "WARNING : 50 NaN (droped) for input at ts -576\n"
     ]
    },
    {
     "name": "stderr",
     "output_type": "stream",
     "text": [
      "/Users/greg/Projects/sundl/notebooks/ficat/../../sundl/dataloader/sdocml.py:750: FutureWarning: Series.__getitem__ treating keys as positions is deprecated. In a future version, integer keys will always be treated as labels (consistent with DataFrame behavior). To access a value by position, use `ser.iloc[pos]`\n",
      "  ).apply(lambda x: x[0])#[24*history_lag:]\n"
     ]
    },
    {
     "name": "stdout",
     "output_type": "stream",
     "text": [
      "WARNING : 50 NaN (droped) for input at ts -564\n"
     ]
    },
    {
     "name": "stderr",
     "output_type": "stream",
     "text": [
      "/Users/greg/Projects/sundl/notebooks/ficat/../../sundl/dataloader/sdocml.py:750: FutureWarning: Series.__getitem__ treating keys as positions is deprecated. In a future version, integer keys will always be treated as labels (consistent with DataFrame behavior). To access a value by position, use `ser.iloc[pos]`\n",
      "  ).apply(lambda x: x[0])#[24*history_lag:]\n"
     ]
    },
    {
     "name": "stdout",
     "output_type": "stream",
     "text": [
      "WARNING : 50 NaN (droped) for input at ts -552\n"
     ]
    },
    {
     "name": "stderr",
     "output_type": "stream",
     "text": [
      "/Users/greg/Projects/sundl/notebooks/ficat/../../sundl/dataloader/sdocml.py:750: FutureWarning: Series.__getitem__ treating keys as positions is deprecated. In a future version, integer keys will always be treated as labels (consistent with DataFrame behavior). To access a value by position, use `ser.iloc[pos]`\n",
      "  ).apply(lambda x: x[0])#[24*history_lag:]\n"
     ]
    },
    {
     "name": "stdout",
     "output_type": "stream",
     "text": [
      "WARNING : 50 NaN (droped) for input at ts -540\n"
     ]
    },
    {
     "name": "stderr",
     "output_type": "stream",
     "text": [
      "/Users/greg/Projects/sundl/notebooks/ficat/../../sundl/dataloader/sdocml.py:750: FutureWarning: Series.__getitem__ treating keys as positions is deprecated. In a future version, integer keys will always be treated as labels (consistent with DataFrame behavior). To access a value by position, use `ser.iloc[pos]`\n",
      "  ).apply(lambda x: x[0])#[24*history_lag:]\n"
     ]
    },
    {
     "name": "stdout",
     "output_type": "stream",
     "text": [
      "WARNING : 50 NaN (droped) for input at ts -528\n"
     ]
    },
    {
     "name": "stderr",
     "output_type": "stream",
     "text": [
      "/Users/greg/Projects/sundl/notebooks/ficat/../../sundl/dataloader/sdocml.py:750: FutureWarning: Series.__getitem__ treating keys as positions is deprecated. In a future version, integer keys will always be treated as labels (consistent with DataFrame behavior). To access a value by position, use `ser.iloc[pos]`\n",
      "  ).apply(lambda x: x[0])#[24*history_lag:]\n"
     ]
    },
    {
     "name": "stdout",
     "output_type": "stream",
     "text": [
      "WARNING : 50 NaN (droped) for input at ts -516\n"
     ]
    },
    {
     "name": "stderr",
     "output_type": "stream",
     "text": [
      "/Users/greg/Projects/sundl/notebooks/ficat/../../sundl/dataloader/sdocml.py:750: FutureWarning: Series.__getitem__ treating keys as positions is deprecated. In a future version, integer keys will always be treated as labels (consistent with DataFrame behavior). To access a value by position, use `ser.iloc[pos]`\n",
      "  ).apply(lambda x: x[0])#[24*history_lag:]\n"
     ]
    },
    {
     "name": "stdout",
     "output_type": "stream",
     "text": [
      "WARNING : 50 NaN (droped) for input at ts -504\n",
      "\n",
      "DS VALIDATION : \n"
     ]
    },
    {
     "name": "stderr",
     "output_type": "stream",
     "text": [
      "/Users/greg/Projects/sundl/notebooks/ficat/../../sundl/dataloader/sdocml.py:742: FutureWarning: Series.__getitem__ treating keys as positions is deprecated. In a future version, integer keys will always be treated as labels (consistent with DataFrame behavior). To access a value by position, use `ser.iloc[pos]`\n",
      "  ).apply(lambda x: x[-1]).shift(freq = f'-{offLabel}H')#[:-int(offLabel/2)]\n"
     ]
    },
    {
     "name": "stdout",
     "output_type": "stream",
     "text": [
      "WARNING : 61 NaN (droped) for label at ts 12\n"
     ]
    },
    {
     "name": "stderr",
     "output_type": "stream",
     "text": [
      "/Users/greg/Projects/sundl/notebooks/ficat/../../sundl/dataloader/sdocml.py:742: FutureWarning: Series.__getitem__ treating keys as positions is deprecated. In a future version, integer keys will always be treated as labels (consistent with DataFrame behavior). To access a value by position, use `ser.iloc[pos]`\n",
      "  ).apply(lambda x: x[-1]).shift(freq = f'-{offLabel}H')#[:-int(offLabel/2)]\n"
     ]
    },
    {
     "name": "stdout",
     "output_type": "stream",
     "text": [
      "WARNING : 67 NaN (droped) for label at ts 24\n"
     ]
    },
    {
     "name": "stderr",
     "output_type": "stream",
     "text": [
      "/Users/greg/Projects/sundl/notebooks/ficat/../../sundl/dataloader/sdocml.py:742: FutureWarning: Series.__getitem__ treating keys as positions is deprecated. In a future version, integer keys will always be treated as labels (consistent with DataFrame behavior). To access a value by position, use `ser.iloc[pos]`\n",
      "  ).apply(lambda x: x[-1]).shift(freq = f'-{offLabel}H')#[:-int(offLabel/2)]\n"
     ]
    },
    {
     "name": "stdout",
     "output_type": "stream",
     "text": [
      "WARNING : 73 NaN (droped) for label at ts 36\n"
     ]
    },
    {
     "name": "stderr",
     "output_type": "stream",
     "text": [
      "/Users/greg/Projects/sundl/notebooks/ficat/../../sundl/dataloader/sdocml.py:742: FutureWarning: Series.__getitem__ treating keys as positions is deprecated. In a future version, integer keys will always be treated as labels (consistent with DataFrame behavior). To access a value by position, use `ser.iloc[pos]`\n",
      "  ).apply(lambda x: x[-1]).shift(freq = f'-{offLabel}H')#[:-int(offLabel/2)]\n"
     ]
    },
    {
     "name": "stdout",
     "output_type": "stream",
     "text": [
      "WARNING : 79 NaN (droped) for label at ts 48\n"
     ]
    },
    {
     "name": "stderr",
     "output_type": "stream",
     "text": [
      "/Users/greg/Projects/sundl/notebooks/ficat/../../sundl/dataloader/sdocml.py:742: FutureWarning: Series.__getitem__ treating keys as positions is deprecated. In a future version, integer keys will always be treated as labels (consistent with DataFrame behavior). To access a value by position, use `ser.iloc[pos]`\n",
      "  ).apply(lambda x: x[-1]).shift(freq = f'-{offLabel}H')#[:-int(offLabel/2)]\n"
     ]
    },
    {
     "name": "stdout",
     "output_type": "stream",
     "text": [
      "WARNING : 85 NaN (droped) for label at ts 60\n"
     ]
    },
    {
     "name": "stderr",
     "output_type": "stream",
     "text": [
      "/Users/greg/Projects/sundl/notebooks/ficat/../../sundl/dataloader/sdocml.py:742: FutureWarning: Series.__getitem__ treating keys as positions is deprecated. In a future version, integer keys will always be treated as labels (consistent with DataFrame behavior). To access a value by position, use `ser.iloc[pos]`\n",
      "  ).apply(lambda x: x[-1]).shift(freq = f'-{offLabel}H')#[:-int(offLabel/2)]\n"
     ]
    },
    {
     "name": "stdout",
     "output_type": "stream",
     "text": [
      "WARNING : 91 NaN (droped) for label at ts 72\n"
     ]
    },
    {
     "name": "stderr",
     "output_type": "stream",
     "text": [
      "/Users/greg/Projects/sundl/notebooks/ficat/../../sundl/dataloader/sdocml.py:742: FutureWarning: Series.__getitem__ treating keys as positions is deprecated. In a future version, integer keys will always be treated as labels (consistent with DataFrame behavior). To access a value by position, use `ser.iloc[pos]`\n",
      "  ).apply(lambda x: x[-1]).shift(freq = f'-{offLabel}H')#[:-int(offLabel/2)]\n"
     ]
    },
    {
     "name": "stdout",
     "output_type": "stream",
     "text": [
      "WARNING : 97 NaN (droped) for label at ts 84\n"
     ]
    },
    {
     "name": "stderr",
     "output_type": "stream",
     "text": [
      "/Users/greg/Projects/sundl/notebooks/ficat/../../sundl/dataloader/sdocml.py:742: FutureWarning: Series.__getitem__ treating keys as positions is deprecated. In a future version, integer keys will always be treated as labels (consistent with DataFrame behavior). To access a value by position, use `ser.iloc[pos]`\n",
      "  ).apply(lambda x: x[-1]).shift(freq = f'-{offLabel}H')#[:-int(offLabel/2)]\n"
     ]
    },
    {
     "name": "stdout",
     "output_type": "stream",
     "text": [
      "WARNING : 103 NaN (droped) for label at ts 96\n"
     ]
    },
    {
     "name": "stderr",
     "output_type": "stream",
     "text": [
      "/Users/greg/Projects/sundl/notebooks/ficat/../../sundl/dataloader/sdocml.py:742: FutureWarning: Series.__getitem__ treating keys as positions is deprecated. In a future version, integer keys will always be treated as labels (consistent with DataFrame behavior). To access a value by position, use `ser.iloc[pos]`\n",
      "  ).apply(lambda x: x[-1]).shift(freq = f'-{offLabel}H')#[:-int(offLabel/2)]\n"
     ]
    },
    {
     "name": "stdout",
     "output_type": "stream",
     "text": [
      "WARNING : 109 NaN (droped) for label at ts 108\n"
     ]
    },
    {
     "name": "stderr",
     "output_type": "stream",
     "text": [
      "/Users/greg/Projects/sundl/notebooks/ficat/../../sundl/dataloader/sdocml.py:742: FutureWarning: Series.__getitem__ treating keys as positions is deprecated. In a future version, integer keys will always be treated as labels (consistent with DataFrame behavior). To access a value by position, use `ser.iloc[pos]`\n",
      "  ).apply(lambda x: x[-1]).shift(freq = f'-{offLabel}H')#[:-int(offLabel/2)]\n"
     ]
    },
    {
     "name": "stdout",
     "output_type": "stream",
     "text": [
      "WARNING : 115 NaN (droped) for label at ts 120\n"
     ]
    },
    {
     "name": "stderr",
     "output_type": "stream",
     "text": [
      "/Users/greg/Projects/sundl/notebooks/ficat/../../sundl/dataloader/sdocml.py:742: FutureWarning: Series.__getitem__ treating keys as positions is deprecated. In a future version, integer keys will always be treated as labels (consistent with DataFrame behavior). To access a value by position, use `ser.iloc[pos]`\n",
      "  ).apply(lambda x: x[-1]).shift(freq = f'-{offLabel}H')#[:-int(offLabel/2)]\n"
     ]
    },
    {
     "name": "stdout",
     "output_type": "stream",
     "text": [
      "WARNING : 121 NaN (droped) for label at ts 132\n"
     ]
    },
    {
     "name": "stderr",
     "output_type": "stream",
     "text": [
      "/Users/greg/Projects/sundl/notebooks/ficat/../../sundl/dataloader/sdocml.py:742: FutureWarning: Series.__getitem__ treating keys as positions is deprecated. In a future version, integer keys will always be treated as labels (consistent with DataFrame behavior). To access a value by position, use `ser.iloc[pos]`\n",
      "  ).apply(lambda x: x[-1]).shift(freq = f'-{offLabel}H')#[:-int(offLabel/2)]\n"
     ]
    },
    {
     "name": "stdout",
     "output_type": "stream",
     "text": [
      "WARNING : 127 NaN (droped) for label at ts 144\n"
     ]
    },
    {
     "name": "stderr",
     "output_type": "stream",
     "text": [
      "/Users/greg/Projects/sundl/notebooks/ficat/../../sundl/dataloader/sdocml.py:750: FutureWarning: Series.__getitem__ treating keys as positions is deprecated. In a future version, integer keys will always be treated as labels (consistent with DataFrame behavior). To access a value by position, use `ser.iloc[pos]`\n",
      "  ).apply(lambda x: x[0])#[24*history_lag:]\n"
     ]
    },
    {
     "name": "stdout",
     "output_type": "stream",
     "text": [
      "WARNING : 50 NaN (droped) for input at ts -636\n"
     ]
    },
    {
     "name": "stderr",
     "output_type": "stream",
     "text": [
      "/Users/greg/Projects/sundl/notebooks/ficat/../../sundl/dataloader/sdocml.py:750: FutureWarning: Series.__getitem__ treating keys as positions is deprecated. In a future version, integer keys will always be treated as labels (consistent with DataFrame behavior). To access a value by position, use `ser.iloc[pos]`\n",
      "  ).apply(lambda x: x[0])#[24*history_lag:]\n"
     ]
    },
    {
     "name": "stdout",
     "output_type": "stream",
     "text": [
      "WARNING : 50 NaN (droped) for input at ts -624\n"
     ]
    },
    {
     "name": "stderr",
     "output_type": "stream",
     "text": [
      "/Users/greg/Projects/sundl/notebooks/ficat/../../sundl/dataloader/sdocml.py:750: FutureWarning: Series.__getitem__ treating keys as positions is deprecated. In a future version, integer keys will always be treated as labels (consistent with DataFrame behavior). To access a value by position, use `ser.iloc[pos]`\n",
      "  ).apply(lambda x: x[0])#[24*history_lag:]\n"
     ]
    },
    {
     "name": "stdout",
     "output_type": "stream",
     "text": [
      "WARNING : 50 NaN (droped) for input at ts -612\n"
     ]
    },
    {
     "name": "stderr",
     "output_type": "stream",
     "text": [
      "/Users/greg/Projects/sundl/notebooks/ficat/../../sundl/dataloader/sdocml.py:750: FutureWarning: Series.__getitem__ treating keys as positions is deprecated. In a future version, integer keys will always be treated as labels (consistent with DataFrame behavior). To access a value by position, use `ser.iloc[pos]`\n",
      "  ).apply(lambda x: x[0])#[24*history_lag:]\n"
     ]
    },
    {
     "name": "stdout",
     "output_type": "stream",
     "text": [
      "WARNING : 50 NaN (droped) for input at ts -600\n"
     ]
    },
    {
     "name": "stderr",
     "output_type": "stream",
     "text": [
      "/Users/greg/Projects/sundl/notebooks/ficat/../../sundl/dataloader/sdocml.py:750: FutureWarning: Series.__getitem__ treating keys as positions is deprecated. In a future version, integer keys will always be treated as labels (consistent with DataFrame behavior). To access a value by position, use `ser.iloc[pos]`\n",
      "  ).apply(lambda x: x[0])#[24*history_lag:]\n"
     ]
    },
    {
     "name": "stdout",
     "output_type": "stream",
     "text": [
      "WARNING : 50 NaN (droped) for input at ts -588\n"
     ]
    },
    {
     "name": "stderr",
     "output_type": "stream",
     "text": [
      "/Users/greg/Projects/sundl/notebooks/ficat/../../sundl/dataloader/sdocml.py:750: FutureWarning: Series.__getitem__ treating keys as positions is deprecated. In a future version, integer keys will always be treated as labels (consistent with DataFrame behavior). To access a value by position, use `ser.iloc[pos]`\n",
      "  ).apply(lambda x: x[0])#[24*history_lag:]\n"
     ]
    },
    {
     "name": "stdout",
     "output_type": "stream",
     "text": [
      "WARNING : 50 NaN (droped) for input at ts -576\n"
     ]
    },
    {
     "name": "stderr",
     "output_type": "stream",
     "text": [
      "/Users/greg/Projects/sundl/notebooks/ficat/../../sundl/dataloader/sdocml.py:750: FutureWarning: Series.__getitem__ treating keys as positions is deprecated. In a future version, integer keys will always be treated as labels (consistent with DataFrame behavior). To access a value by position, use `ser.iloc[pos]`\n",
      "  ).apply(lambda x: x[0])#[24*history_lag:]\n"
     ]
    },
    {
     "name": "stdout",
     "output_type": "stream",
     "text": [
      "WARNING : 50 NaN (droped) for input at ts -564\n"
     ]
    },
    {
     "name": "stderr",
     "output_type": "stream",
     "text": [
      "/Users/greg/Projects/sundl/notebooks/ficat/../../sundl/dataloader/sdocml.py:750: FutureWarning: Series.__getitem__ treating keys as positions is deprecated. In a future version, integer keys will always be treated as labels (consistent with DataFrame behavior). To access a value by position, use `ser.iloc[pos]`\n",
      "  ).apply(lambda x: x[0])#[24*history_lag:]\n"
     ]
    },
    {
     "name": "stdout",
     "output_type": "stream",
     "text": [
      "WARNING : 50 NaN (droped) for input at ts -552\n"
     ]
    },
    {
     "name": "stderr",
     "output_type": "stream",
     "text": [
      "/Users/greg/Projects/sundl/notebooks/ficat/../../sundl/dataloader/sdocml.py:750: FutureWarning: Series.__getitem__ treating keys as positions is deprecated. In a future version, integer keys will always be treated as labels (consistent with DataFrame behavior). To access a value by position, use `ser.iloc[pos]`\n",
      "  ).apply(lambda x: x[0])#[24*history_lag:]\n"
     ]
    },
    {
     "name": "stdout",
     "output_type": "stream",
     "text": [
      "WARNING : 50 NaN (droped) for input at ts -540\n"
     ]
    },
    {
     "name": "stderr",
     "output_type": "stream",
     "text": [
      "/Users/greg/Projects/sundl/notebooks/ficat/../../sundl/dataloader/sdocml.py:750: FutureWarning: Series.__getitem__ treating keys as positions is deprecated. In a future version, integer keys will always be treated as labels (consistent with DataFrame behavior). To access a value by position, use `ser.iloc[pos]`\n",
      "  ).apply(lambda x: x[0])#[24*history_lag:]\n"
     ]
    },
    {
     "name": "stdout",
     "output_type": "stream",
     "text": [
      "WARNING : 50 NaN (droped) for input at ts -528\n"
     ]
    },
    {
     "name": "stderr",
     "output_type": "stream",
     "text": [
      "/Users/greg/Projects/sundl/notebooks/ficat/../../sundl/dataloader/sdocml.py:750: FutureWarning: Series.__getitem__ treating keys as positions is deprecated. In a future version, integer keys will always be treated as labels (consistent with DataFrame behavior). To access a value by position, use `ser.iloc[pos]`\n",
      "  ).apply(lambda x: x[0])#[24*history_lag:]\n"
     ]
    },
    {
     "name": "stdout",
     "output_type": "stream",
     "text": [
      "WARNING : 50 NaN (droped) for input at ts -516\n"
     ]
    },
    {
     "name": "stderr",
     "output_type": "stream",
     "text": [
      "/Users/greg/Projects/sundl/notebooks/ficat/../../sundl/dataloader/sdocml.py:750: FutureWarning: Series.__getitem__ treating keys as positions is deprecated. In a future version, integer keys will always be treated as labels (consistent with DataFrame behavior). To access a value by position, use `ser.iloc[pos]`\n",
      "  ).apply(lambda x: x[0])#[24*history_lag:]\n"
     ]
    },
    {
     "name": "stdout",
     "output_type": "stream",
     "text": [
      "WARNING : 50 NaN (droped) for input at ts -504\n",
      "0 incomplete training dates\n",
      "0 incomplete val dates\n",
      "Epoch 1/2\n",
      " 1/13 [=>............................] - ETA: 2s - loss: 5956.1050 - mae: 74.9816 - maep: 17.7242 - rmse: 101.4628\n",
      "Epoch 1: val_rmse did not improve from 85.00000\n",
      "13/13 [==============================] - 0s 13ms/step - loss: 8421.7236 - mae: 72.4848 - maep: 17.4468 - rmse: 98.0778 - val_loss: 10448.8965 - val_mae: 75.7806 - val_maep: 17.8340 - val_rmse: 102.2198\n",
      "Epoch 2/2\n",
      " 1/13 [=>............................] - ETA: 0s - loss: 12463.1768 - mae: 82.5816 - maep: 20.2647 - rmse: 111.6386\n",
      "Epoch 2: val_rmse did not improve from 85.00000\n",
      "13/13 [==============================] - 0s 3ms/step - loss: 8421.7246 - mae: 67.6374 - maep: 16.8146 - rmse: 91.7700 - val_loss: 10448.8975 - val_mae: 75.7806 - val_maep: 17.8340 - val_rmse: 102.2198\n"
     ]
    },
    {
     "name": "stderr",
     "output_type": "stream",
     "text": [
      "100%|██████████| 1/1 [02:33<00:00, 153.68s/it]"
     ]
    },
    {
     "name": "stdout",
     "output_type": "stream",
     "text": [
      "Train  loss:  ['8.42e+03', '8.42e+03']\n",
      "Train  mae:  ['72.48', '67.64']\n",
      "Train  maep:  ['17.45', '16.81']\n",
      "Train  rmse:  ['98.08', '91.77']\n",
      "\n",
      "Val val_loss:  ['1.04e+04', '1.04e+04']\n",
      "Val val_mae:  ['75.78', '75.78']\n",
      "Val val_maep:  ['17.83', '17.83']\n",
      "Val val_rmse:  ['102.22', '102.22']\n"
     ]
    },
    {
     "name": "stderr",
     "output_type": "stream",
     "text": [
      "\n",
      " 60%|██████    | 3/5 [10:24<06:38, 199.21s/it]"
     ]
    },
    {
     "name": "stdout",
     "output_type": "stream",
     "text": [
      "\n",
      "\n",
      "-----------------------------\n",
      "Model : SW_Pst04___Lx12Hx6Dx12__12\n",
      "\n",
      "\n",
      "-----------------------------\n",
      "Model : SW_Pst04___Lx12Hx6Dx12__12\n",
      "FOLD #0\n",
      "\n",
      "DS TRAINING : \n"
     ]
    },
    {
     "name": "stderr",
     "output_type": "stream",
     "text": [
      "/Users/greg/Projects/sundl/notebooks/ficat/../../sundl/dataloader/sdocml.py:742: FutureWarning: Series.__getitem__ treating keys as positions is deprecated. In a future version, integer keys will always be treated as labels (consistent with DataFrame behavior). To access a value by position, use `ser.iloc[pos]`\n",
      "  ).apply(lambda x: x[-1]).shift(freq = f'-{offLabel}H')#[:-int(offLabel/2)]\n"
     ]
    },
    {
     "name": "stdout",
     "output_type": "stream",
     "text": [
      "WARNING : 61 NaN (droped) for label at ts 12\n"
     ]
    },
    {
     "name": "stderr",
     "output_type": "stream",
     "text": [
      "/Users/greg/Projects/sundl/notebooks/ficat/../../sundl/dataloader/sdocml.py:742: FutureWarning: Series.__getitem__ treating keys as positions is deprecated. In a future version, integer keys will always be treated as labels (consistent with DataFrame behavior). To access a value by position, use `ser.iloc[pos]`\n",
      "  ).apply(lambda x: x[-1]).shift(freq = f'-{offLabel}H')#[:-int(offLabel/2)]\n"
     ]
    },
    {
     "name": "stdout",
     "output_type": "stream",
     "text": [
      "WARNING : 67 NaN (droped) for label at ts 24\n"
     ]
    },
    {
     "name": "stderr",
     "output_type": "stream",
     "text": [
      "/Users/greg/Projects/sundl/notebooks/ficat/../../sundl/dataloader/sdocml.py:742: FutureWarning: Series.__getitem__ treating keys as positions is deprecated. In a future version, integer keys will always be treated as labels (consistent with DataFrame behavior). To access a value by position, use `ser.iloc[pos]`\n",
      "  ).apply(lambda x: x[-1]).shift(freq = f'-{offLabel}H')#[:-int(offLabel/2)]\n"
     ]
    },
    {
     "name": "stdout",
     "output_type": "stream",
     "text": [
      "WARNING : 73 NaN (droped) for label at ts 36\n"
     ]
    },
    {
     "name": "stderr",
     "output_type": "stream",
     "text": [
      "/Users/greg/Projects/sundl/notebooks/ficat/../../sundl/dataloader/sdocml.py:742: FutureWarning: Series.__getitem__ treating keys as positions is deprecated. In a future version, integer keys will always be treated as labels (consistent with DataFrame behavior). To access a value by position, use `ser.iloc[pos]`\n",
      "  ).apply(lambda x: x[-1]).shift(freq = f'-{offLabel}H')#[:-int(offLabel/2)]\n"
     ]
    },
    {
     "name": "stdout",
     "output_type": "stream",
     "text": [
      "WARNING : 79 NaN (droped) for label at ts 48\n"
     ]
    },
    {
     "name": "stderr",
     "output_type": "stream",
     "text": [
      "/Users/greg/Projects/sundl/notebooks/ficat/../../sundl/dataloader/sdocml.py:742: FutureWarning: Series.__getitem__ treating keys as positions is deprecated. In a future version, integer keys will always be treated as labels (consistent with DataFrame behavior). To access a value by position, use `ser.iloc[pos]`\n",
      "  ).apply(lambda x: x[-1]).shift(freq = f'-{offLabel}H')#[:-int(offLabel/2)]\n"
     ]
    },
    {
     "name": "stdout",
     "output_type": "stream",
     "text": [
      "WARNING : 85 NaN (droped) for label at ts 60\n"
     ]
    },
    {
     "name": "stderr",
     "output_type": "stream",
     "text": [
      "/Users/greg/Projects/sundl/notebooks/ficat/../../sundl/dataloader/sdocml.py:742: FutureWarning: Series.__getitem__ treating keys as positions is deprecated. In a future version, integer keys will always be treated as labels (consistent with DataFrame behavior). To access a value by position, use `ser.iloc[pos]`\n",
      "  ).apply(lambda x: x[-1]).shift(freq = f'-{offLabel}H')#[:-int(offLabel/2)]\n"
     ]
    },
    {
     "name": "stdout",
     "output_type": "stream",
     "text": [
      "WARNING : 91 NaN (droped) for label at ts 72\n"
     ]
    },
    {
     "name": "stderr",
     "output_type": "stream",
     "text": [
      "/Users/greg/Projects/sundl/notebooks/ficat/../../sundl/dataloader/sdocml.py:742: FutureWarning: Series.__getitem__ treating keys as positions is deprecated. In a future version, integer keys will always be treated as labels (consistent with DataFrame behavior). To access a value by position, use `ser.iloc[pos]`\n",
      "  ).apply(lambda x: x[-1]).shift(freq = f'-{offLabel}H')#[:-int(offLabel/2)]\n"
     ]
    },
    {
     "name": "stdout",
     "output_type": "stream",
     "text": [
      "WARNING : 97 NaN (droped) for label at ts 84\n"
     ]
    },
    {
     "name": "stderr",
     "output_type": "stream",
     "text": [
      "/Users/greg/Projects/sundl/notebooks/ficat/../../sundl/dataloader/sdocml.py:742: FutureWarning: Series.__getitem__ treating keys as positions is deprecated. In a future version, integer keys will always be treated as labels (consistent with DataFrame behavior). To access a value by position, use `ser.iloc[pos]`\n",
      "  ).apply(lambda x: x[-1]).shift(freq = f'-{offLabel}H')#[:-int(offLabel/2)]\n"
     ]
    },
    {
     "name": "stdout",
     "output_type": "stream",
     "text": [
      "WARNING : 103 NaN (droped) for label at ts 96\n"
     ]
    },
    {
     "name": "stderr",
     "output_type": "stream",
     "text": [
      "/Users/greg/Projects/sundl/notebooks/ficat/../../sundl/dataloader/sdocml.py:742: FutureWarning: Series.__getitem__ treating keys as positions is deprecated. In a future version, integer keys will always be treated as labels (consistent with DataFrame behavior). To access a value by position, use `ser.iloc[pos]`\n",
      "  ).apply(lambda x: x[-1]).shift(freq = f'-{offLabel}H')#[:-int(offLabel/2)]\n"
     ]
    },
    {
     "name": "stdout",
     "output_type": "stream",
     "text": [
      "WARNING : 109 NaN (droped) for label at ts 108\n"
     ]
    },
    {
     "name": "stderr",
     "output_type": "stream",
     "text": [
      "/Users/greg/Projects/sundl/notebooks/ficat/../../sundl/dataloader/sdocml.py:742: FutureWarning: Series.__getitem__ treating keys as positions is deprecated. In a future version, integer keys will always be treated as labels (consistent with DataFrame behavior). To access a value by position, use `ser.iloc[pos]`\n",
      "  ).apply(lambda x: x[-1]).shift(freq = f'-{offLabel}H')#[:-int(offLabel/2)]\n"
     ]
    },
    {
     "name": "stdout",
     "output_type": "stream",
     "text": [
      "WARNING : 115 NaN (droped) for label at ts 120\n"
     ]
    },
    {
     "name": "stderr",
     "output_type": "stream",
     "text": [
      "/Users/greg/Projects/sundl/notebooks/ficat/../../sundl/dataloader/sdocml.py:742: FutureWarning: Series.__getitem__ treating keys as positions is deprecated. In a future version, integer keys will always be treated as labels (consistent with DataFrame behavior). To access a value by position, use `ser.iloc[pos]`\n",
      "  ).apply(lambda x: x[-1]).shift(freq = f'-{offLabel}H')#[:-int(offLabel/2)]\n"
     ]
    },
    {
     "name": "stdout",
     "output_type": "stream",
     "text": [
      "WARNING : 121 NaN (droped) for label at ts 132\n"
     ]
    },
    {
     "name": "stderr",
     "output_type": "stream",
     "text": [
      "/Users/greg/Projects/sundl/notebooks/ficat/../../sundl/dataloader/sdocml.py:742: FutureWarning: Series.__getitem__ treating keys as positions is deprecated. In a future version, integer keys will always be treated as labels (consistent with DataFrame behavior). To access a value by position, use `ser.iloc[pos]`\n",
      "  ).apply(lambda x: x[-1]).shift(freq = f'-{offLabel}H')#[:-int(offLabel/2)]\n"
     ]
    },
    {
     "name": "stdout",
     "output_type": "stream",
     "text": [
      "WARNING : 127 NaN (droped) for label at ts 144\n"
     ]
    },
    {
     "name": "stderr",
     "output_type": "stream",
     "text": [
      "/Users/greg/Projects/sundl/notebooks/ficat/../../sundl/dataloader/sdocml.py:750: FutureWarning: Series.__getitem__ treating keys as positions is deprecated. In a future version, integer keys will always be treated as labels (consistent with DataFrame behavior). To access a value by position, use `ser.iloc[pos]`\n",
      "  ).apply(lambda x: x[0])#[24*history_lag:]\n"
     ]
    },
    {
     "name": "stdout",
     "output_type": "stream",
     "text": [
      "WARNING : 50 NaN (droped) for input at ts -84\n"
     ]
    },
    {
     "name": "stderr",
     "output_type": "stream",
     "text": [
      "/Users/greg/Projects/sundl/notebooks/ficat/../../sundl/dataloader/sdocml.py:750: FutureWarning: Series.__getitem__ treating keys as positions is deprecated. In a future version, integer keys will always be treated as labels (consistent with DataFrame behavior). To access a value by position, use `ser.iloc[pos]`\n",
      "  ).apply(lambda x: x[0])#[24*history_lag:]\n"
     ]
    },
    {
     "name": "stdout",
     "output_type": "stream",
     "text": [
      "WARNING : 50 NaN (droped) for input at ts -72\n"
     ]
    },
    {
     "name": "stderr",
     "output_type": "stream",
     "text": [
      "/Users/greg/Projects/sundl/notebooks/ficat/../../sundl/dataloader/sdocml.py:750: FutureWarning: Series.__getitem__ treating keys as positions is deprecated. In a future version, integer keys will always be treated as labels (consistent with DataFrame behavior). To access a value by position, use `ser.iloc[pos]`\n",
      "  ).apply(lambda x: x[0])#[24*history_lag:]\n"
     ]
    },
    {
     "name": "stdout",
     "output_type": "stream",
     "text": [
      "WARNING : 50 NaN (droped) for input at ts -60\n"
     ]
    },
    {
     "name": "stderr",
     "output_type": "stream",
     "text": [
      "/Users/greg/Projects/sundl/notebooks/ficat/../../sundl/dataloader/sdocml.py:750: FutureWarning: Series.__getitem__ treating keys as positions is deprecated. In a future version, integer keys will always be treated as labels (consistent with DataFrame behavior). To access a value by position, use `ser.iloc[pos]`\n",
      "  ).apply(lambda x: x[0])#[24*history_lag:]\n"
     ]
    },
    {
     "name": "stdout",
     "output_type": "stream",
     "text": [
      "WARNING : 51 NaN (droped) for input at ts -48\n"
     ]
    },
    {
     "name": "stderr",
     "output_type": "stream",
     "text": [
      "/Users/greg/Projects/sundl/notebooks/ficat/../../sundl/dataloader/sdocml.py:750: FutureWarning: Series.__getitem__ treating keys as positions is deprecated. In a future version, integer keys will always be treated as labels (consistent with DataFrame behavior). To access a value by position, use `ser.iloc[pos]`\n",
      "  ).apply(lambda x: x[0])#[24*history_lag:]\n"
     ]
    },
    {
     "name": "stdout",
     "output_type": "stream",
     "text": [
      "WARNING : 55 NaN (droped) for input at ts -36\n"
     ]
    },
    {
     "name": "stderr",
     "output_type": "stream",
     "text": [
      "/Users/greg/Projects/sundl/notebooks/ficat/../../sundl/dataloader/sdocml.py:750: FutureWarning: Series.__getitem__ treating keys as positions is deprecated. In a future version, integer keys will always be treated as labels (consistent with DataFrame behavior). To access a value by position, use `ser.iloc[pos]`\n",
      "  ).apply(lambda x: x[0])#[24*history_lag:]\n"
     ]
    },
    {
     "name": "stdout",
     "output_type": "stream",
     "text": [
      "WARNING : 55 NaN (droped) for input at ts -24\n"
     ]
    },
    {
     "name": "stderr",
     "output_type": "stream",
     "text": [
      "/Users/greg/Projects/sundl/notebooks/ficat/../../sundl/dataloader/sdocml.py:750: FutureWarning: Series.__getitem__ treating keys as positions is deprecated. In a future version, integer keys will always be treated as labels (consistent with DataFrame behavior). To access a value by position, use `ser.iloc[pos]`\n",
      "  ).apply(lambda x: x[0])#[24*history_lag:]\n"
     ]
    },
    {
     "name": "stdout",
     "output_type": "stream",
     "text": [
      "WARNING : 55 NaN (droped) for input at ts -12\n"
     ]
    },
    {
     "name": "stderr",
     "output_type": "stream",
     "text": [
      "/Users/greg/Projects/sundl/notebooks/ficat/../../sundl/dataloader/sdocml.py:750: FutureWarning: Series.__getitem__ treating keys as positions is deprecated. In a future version, integer keys will always be treated as labels (consistent with DataFrame behavior). To access a value by position, use `ser.iloc[pos]`\n",
      "  ).apply(lambda x: x[0])#[24*history_lag:]\n"
     ]
    },
    {
     "name": "stdout",
     "output_type": "stream",
     "text": [
      "WARNING : 55 NaN (droped) for input at ts 0\n"
     ]
    },
    {
     "name": "stderr",
     "output_type": "stream",
     "text": [
      "/Users/greg/Projects/sundl/notebooks/ficat/../../sundl/dataloader/sdocml.py:750: FutureWarning: Series.__getitem__ treating keys as positions is deprecated. In a future version, integer keys will always be treated as labels (consistent with DataFrame behavior). To access a value by position, use `ser.iloc[pos]`\n",
      "  ).apply(lambda x: x[0])#[24*history_lag:]\n"
     ]
    },
    {
     "name": "stdout",
     "output_type": "stream",
     "text": [
      "WARNING : 55 NaN (droped) for input at ts 12\n"
     ]
    },
    {
     "name": "stderr",
     "output_type": "stream",
     "text": [
      "/Users/greg/Projects/sundl/notebooks/ficat/../../sundl/dataloader/sdocml.py:750: FutureWarning: Series.__getitem__ treating keys as positions is deprecated. In a future version, integer keys will always be treated as labels (consistent with DataFrame behavior). To access a value by position, use `ser.iloc[pos]`\n",
      "  ).apply(lambda x: x[0])#[24*history_lag:]\n"
     ]
    },
    {
     "name": "stdout",
     "output_type": "stream",
     "text": [
      "WARNING : 55 NaN (droped) for input at ts 24\n"
     ]
    },
    {
     "name": "stderr",
     "output_type": "stream",
     "text": [
      "/Users/greg/Projects/sundl/notebooks/ficat/../../sundl/dataloader/sdocml.py:750: FutureWarning: Series.__getitem__ treating keys as positions is deprecated. In a future version, integer keys will always be treated as labels (consistent with DataFrame behavior). To access a value by position, use `ser.iloc[pos]`\n",
      "  ).apply(lambda x: x[0])#[24*history_lag:]\n"
     ]
    },
    {
     "name": "stdout",
     "output_type": "stream",
     "text": [
      "WARNING : 55 NaN (droped) for input at ts 36\n"
     ]
    },
    {
     "name": "stderr",
     "output_type": "stream",
     "text": [
      "/Users/greg/Projects/sundl/notebooks/ficat/../../sundl/dataloader/sdocml.py:750: FutureWarning: Series.__getitem__ treating keys as positions is deprecated. In a future version, integer keys will always be treated as labels (consistent with DataFrame behavior). To access a value by position, use `ser.iloc[pos]`\n",
      "  ).apply(lambda x: x[0])#[24*history_lag:]\n"
     ]
    },
    {
     "name": "stdout",
     "output_type": "stream",
     "text": [
      "WARNING : 55 NaN (droped) for input at ts 48\n",
      "\n",
      "DS VALIDATION : \n"
     ]
    },
    {
     "name": "stderr",
     "output_type": "stream",
     "text": [
      "/Users/greg/Projects/sundl/notebooks/ficat/../../sundl/dataloader/sdocml.py:742: FutureWarning: Series.__getitem__ treating keys as positions is deprecated. In a future version, integer keys will always be treated as labels (consistent with DataFrame behavior). To access a value by position, use `ser.iloc[pos]`\n",
      "  ).apply(lambda x: x[-1]).shift(freq = f'-{offLabel}H')#[:-int(offLabel/2)]\n"
     ]
    },
    {
     "name": "stdout",
     "output_type": "stream",
     "text": [
      "WARNING : 61 NaN (droped) for label at ts 12\n"
     ]
    },
    {
     "name": "stderr",
     "output_type": "stream",
     "text": [
      "/Users/greg/Projects/sundl/notebooks/ficat/../../sundl/dataloader/sdocml.py:742: FutureWarning: Series.__getitem__ treating keys as positions is deprecated. In a future version, integer keys will always be treated as labels (consistent with DataFrame behavior). To access a value by position, use `ser.iloc[pos]`\n",
      "  ).apply(lambda x: x[-1]).shift(freq = f'-{offLabel}H')#[:-int(offLabel/2)]\n"
     ]
    },
    {
     "name": "stdout",
     "output_type": "stream",
     "text": [
      "WARNING : 67 NaN (droped) for label at ts 24\n"
     ]
    },
    {
     "name": "stderr",
     "output_type": "stream",
     "text": [
      "/Users/greg/Projects/sundl/notebooks/ficat/../../sundl/dataloader/sdocml.py:742: FutureWarning: Series.__getitem__ treating keys as positions is deprecated. In a future version, integer keys will always be treated as labels (consistent with DataFrame behavior). To access a value by position, use `ser.iloc[pos]`\n",
      "  ).apply(lambda x: x[-1]).shift(freq = f'-{offLabel}H')#[:-int(offLabel/2)]\n"
     ]
    },
    {
     "name": "stdout",
     "output_type": "stream",
     "text": [
      "WARNING : 73 NaN (droped) for label at ts 36\n"
     ]
    },
    {
     "name": "stderr",
     "output_type": "stream",
     "text": [
      "/Users/greg/Projects/sundl/notebooks/ficat/../../sundl/dataloader/sdocml.py:742: FutureWarning: Series.__getitem__ treating keys as positions is deprecated. In a future version, integer keys will always be treated as labels (consistent with DataFrame behavior). To access a value by position, use `ser.iloc[pos]`\n",
      "  ).apply(lambda x: x[-1]).shift(freq = f'-{offLabel}H')#[:-int(offLabel/2)]\n"
     ]
    },
    {
     "name": "stdout",
     "output_type": "stream",
     "text": [
      "WARNING : 79 NaN (droped) for label at ts 48\n"
     ]
    },
    {
     "name": "stderr",
     "output_type": "stream",
     "text": [
      "/Users/greg/Projects/sundl/notebooks/ficat/../../sundl/dataloader/sdocml.py:742: FutureWarning: Series.__getitem__ treating keys as positions is deprecated. In a future version, integer keys will always be treated as labels (consistent with DataFrame behavior). To access a value by position, use `ser.iloc[pos]`\n",
      "  ).apply(lambda x: x[-1]).shift(freq = f'-{offLabel}H')#[:-int(offLabel/2)]\n"
     ]
    },
    {
     "name": "stdout",
     "output_type": "stream",
     "text": [
      "WARNING : 85 NaN (droped) for label at ts 60\n"
     ]
    },
    {
     "name": "stderr",
     "output_type": "stream",
     "text": [
      "/Users/greg/Projects/sundl/notebooks/ficat/../../sundl/dataloader/sdocml.py:742: FutureWarning: Series.__getitem__ treating keys as positions is deprecated. In a future version, integer keys will always be treated as labels (consistent with DataFrame behavior). To access a value by position, use `ser.iloc[pos]`\n",
      "  ).apply(lambda x: x[-1]).shift(freq = f'-{offLabel}H')#[:-int(offLabel/2)]\n"
     ]
    },
    {
     "name": "stdout",
     "output_type": "stream",
     "text": [
      "WARNING : 91 NaN (droped) for label at ts 72\n"
     ]
    },
    {
     "name": "stderr",
     "output_type": "stream",
     "text": [
      "/Users/greg/Projects/sundl/notebooks/ficat/../../sundl/dataloader/sdocml.py:742: FutureWarning: Series.__getitem__ treating keys as positions is deprecated. In a future version, integer keys will always be treated as labels (consistent with DataFrame behavior). To access a value by position, use `ser.iloc[pos]`\n",
      "  ).apply(lambda x: x[-1]).shift(freq = f'-{offLabel}H')#[:-int(offLabel/2)]\n"
     ]
    },
    {
     "name": "stdout",
     "output_type": "stream",
     "text": [
      "WARNING : 97 NaN (droped) for label at ts 84\n"
     ]
    },
    {
     "name": "stderr",
     "output_type": "stream",
     "text": [
      "/Users/greg/Projects/sundl/notebooks/ficat/../../sundl/dataloader/sdocml.py:742: FutureWarning: Series.__getitem__ treating keys as positions is deprecated. In a future version, integer keys will always be treated as labels (consistent with DataFrame behavior). To access a value by position, use `ser.iloc[pos]`\n",
      "  ).apply(lambda x: x[-1]).shift(freq = f'-{offLabel}H')#[:-int(offLabel/2)]\n"
     ]
    },
    {
     "name": "stdout",
     "output_type": "stream",
     "text": [
      "WARNING : 103 NaN (droped) for label at ts 96\n"
     ]
    },
    {
     "name": "stderr",
     "output_type": "stream",
     "text": [
      "/Users/greg/Projects/sundl/notebooks/ficat/../../sundl/dataloader/sdocml.py:742: FutureWarning: Series.__getitem__ treating keys as positions is deprecated. In a future version, integer keys will always be treated as labels (consistent with DataFrame behavior). To access a value by position, use `ser.iloc[pos]`\n",
      "  ).apply(lambda x: x[-1]).shift(freq = f'-{offLabel}H')#[:-int(offLabel/2)]\n"
     ]
    },
    {
     "name": "stdout",
     "output_type": "stream",
     "text": [
      "WARNING : 109 NaN (droped) for label at ts 108\n"
     ]
    },
    {
     "name": "stderr",
     "output_type": "stream",
     "text": [
      "/Users/greg/Projects/sundl/notebooks/ficat/../../sundl/dataloader/sdocml.py:742: FutureWarning: Series.__getitem__ treating keys as positions is deprecated. In a future version, integer keys will always be treated as labels (consistent with DataFrame behavior). To access a value by position, use `ser.iloc[pos]`\n",
      "  ).apply(lambda x: x[-1]).shift(freq = f'-{offLabel}H')#[:-int(offLabel/2)]\n"
     ]
    },
    {
     "name": "stdout",
     "output_type": "stream",
     "text": [
      "WARNING : 115 NaN (droped) for label at ts 120\n"
     ]
    },
    {
     "name": "stderr",
     "output_type": "stream",
     "text": [
      "/Users/greg/Projects/sundl/notebooks/ficat/../../sundl/dataloader/sdocml.py:742: FutureWarning: Series.__getitem__ treating keys as positions is deprecated. In a future version, integer keys will always be treated as labels (consistent with DataFrame behavior). To access a value by position, use `ser.iloc[pos]`\n",
      "  ).apply(lambda x: x[-1]).shift(freq = f'-{offLabel}H')#[:-int(offLabel/2)]\n"
     ]
    },
    {
     "name": "stdout",
     "output_type": "stream",
     "text": [
      "WARNING : 121 NaN (droped) for label at ts 132\n"
     ]
    },
    {
     "name": "stderr",
     "output_type": "stream",
     "text": [
      "/Users/greg/Projects/sundl/notebooks/ficat/../../sundl/dataloader/sdocml.py:742: FutureWarning: Series.__getitem__ treating keys as positions is deprecated. In a future version, integer keys will always be treated as labels (consistent with DataFrame behavior). To access a value by position, use `ser.iloc[pos]`\n",
      "  ).apply(lambda x: x[-1]).shift(freq = f'-{offLabel}H')#[:-int(offLabel/2)]\n"
     ]
    },
    {
     "name": "stdout",
     "output_type": "stream",
     "text": [
      "WARNING : 127 NaN (droped) for label at ts 144\n"
     ]
    },
    {
     "name": "stderr",
     "output_type": "stream",
     "text": [
      "/Users/greg/Projects/sundl/notebooks/ficat/../../sundl/dataloader/sdocml.py:750: FutureWarning: Series.__getitem__ treating keys as positions is deprecated. In a future version, integer keys will always be treated as labels (consistent with DataFrame behavior). To access a value by position, use `ser.iloc[pos]`\n",
      "  ).apply(lambda x: x[0])#[24*history_lag:]\n"
     ]
    },
    {
     "name": "stdout",
     "output_type": "stream",
     "text": [
      "WARNING : 50 NaN (droped) for input at ts -84\n"
     ]
    },
    {
     "name": "stderr",
     "output_type": "stream",
     "text": [
      "/Users/greg/Projects/sundl/notebooks/ficat/../../sundl/dataloader/sdocml.py:750: FutureWarning: Series.__getitem__ treating keys as positions is deprecated. In a future version, integer keys will always be treated as labels (consistent with DataFrame behavior). To access a value by position, use `ser.iloc[pos]`\n",
      "  ).apply(lambda x: x[0])#[24*history_lag:]\n"
     ]
    },
    {
     "name": "stdout",
     "output_type": "stream",
     "text": [
      "WARNING : 50 NaN (droped) for input at ts -72\n"
     ]
    },
    {
     "name": "stderr",
     "output_type": "stream",
     "text": [
      "/Users/greg/Projects/sundl/notebooks/ficat/../../sundl/dataloader/sdocml.py:750: FutureWarning: Series.__getitem__ treating keys as positions is deprecated. In a future version, integer keys will always be treated as labels (consistent with DataFrame behavior). To access a value by position, use `ser.iloc[pos]`\n",
      "  ).apply(lambda x: x[0])#[24*history_lag:]\n"
     ]
    },
    {
     "name": "stdout",
     "output_type": "stream",
     "text": [
      "WARNING : 50 NaN (droped) for input at ts -60\n"
     ]
    },
    {
     "name": "stderr",
     "output_type": "stream",
     "text": [
      "/Users/greg/Projects/sundl/notebooks/ficat/../../sundl/dataloader/sdocml.py:750: FutureWarning: Series.__getitem__ treating keys as positions is deprecated. In a future version, integer keys will always be treated as labels (consistent with DataFrame behavior). To access a value by position, use `ser.iloc[pos]`\n",
      "  ).apply(lambda x: x[0])#[24*history_lag:]\n"
     ]
    },
    {
     "name": "stdout",
     "output_type": "stream",
     "text": [
      "WARNING : 51 NaN (droped) for input at ts -48\n"
     ]
    },
    {
     "name": "stderr",
     "output_type": "stream",
     "text": [
      "/Users/greg/Projects/sundl/notebooks/ficat/../../sundl/dataloader/sdocml.py:750: FutureWarning: Series.__getitem__ treating keys as positions is deprecated. In a future version, integer keys will always be treated as labels (consistent with DataFrame behavior). To access a value by position, use `ser.iloc[pos]`\n",
      "  ).apply(lambda x: x[0])#[24*history_lag:]\n"
     ]
    },
    {
     "name": "stdout",
     "output_type": "stream",
     "text": [
      "WARNING : 55 NaN (droped) for input at ts -36\n"
     ]
    },
    {
     "name": "stderr",
     "output_type": "stream",
     "text": [
      "/Users/greg/Projects/sundl/notebooks/ficat/../../sundl/dataloader/sdocml.py:750: FutureWarning: Series.__getitem__ treating keys as positions is deprecated. In a future version, integer keys will always be treated as labels (consistent with DataFrame behavior). To access a value by position, use `ser.iloc[pos]`\n",
      "  ).apply(lambda x: x[0])#[24*history_lag:]\n"
     ]
    },
    {
     "name": "stdout",
     "output_type": "stream",
     "text": [
      "WARNING : 55 NaN (droped) for input at ts -24\n"
     ]
    },
    {
     "name": "stderr",
     "output_type": "stream",
     "text": [
      "/Users/greg/Projects/sundl/notebooks/ficat/../../sundl/dataloader/sdocml.py:750: FutureWarning: Series.__getitem__ treating keys as positions is deprecated. In a future version, integer keys will always be treated as labels (consistent with DataFrame behavior). To access a value by position, use `ser.iloc[pos]`\n",
      "  ).apply(lambda x: x[0])#[24*history_lag:]\n"
     ]
    },
    {
     "name": "stdout",
     "output_type": "stream",
     "text": [
      "WARNING : 55 NaN (droped) for input at ts -12\n"
     ]
    },
    {
     "name": "stderr",
     "output_type": "stream",
     "text": [
      "/Users/greg/Projects/sundl/notebooks/ficat/../../sundl/dataloader/sdocml.py:750: FutureWarning: Series.__getitem__ treating keys as positions is deprecated. In a future version, integer keys will always be treated as labels (consistent with DataFrame behavior). To access a value by position, use `ser.iloc[pos]`\n",
      "  ).apply(lambda x: x[0])#[24*history_lag:]\n"
     ]
    },
    {
     "name": "stdout",
     "output_type": "stream",
     "text": [
      "WARNING : 55 NaN (droped) for input at ts 0\n"
     ]
    },
    {
     "name": "stderr",
     "output_type": "stream",
     "text": [
      "/Users/greg/Projects/sundl/notebooks/ficat/../../sundl/dataloader/sdocml.py:750: FutureWarning: Series.__getitem__ treating keys as positions is deprecated. In a future version, integer keys will always be treated as labels (consistent with DataFrame behavior). To access a value by position, use `ser.iloc[pos]`\n",
      "  ).apply(lambda x: x[0])#[24*history_lag:]\n"
     ]
    },
    {
     "name": "stdout",
     "output_type": "stream",
     "text": [
      "WARNING : 55 NaN (droped) for input at ts 12\n"
     ]
    },
    {
     "name": "stderr",
     "output_type": "stream",
     "text": [
      "/Users/greg/Projects/sundl/notebooks/ficat/../../sundl/dataloader/sdocml.py:750: FutureWarning: Series.__getitem__ treating keys as positions is deprecated. In a future version, integer keys will always be treated as labels (consistent with DataFrame behavior). To access a value by position, use `ser.iloc[pos]`\n",
      "  ).apply(lambda x: x[0])#[24*history_lag:]\n"
     ]
    },
    {
     "name": "stdout",
     "output_type": "stream",
     "text": [
      "WARNING : 55 NaN (droped) for input at ts 24\n"
     ]
    },
    {
     "name": "stderr",
     "output_type": "stream",
     "text": [
      "/Users/greg/Projects/sundl/notebooks/ficat/../../sundl/dataloader/sdocml.py:750: FutureWarning: Series.__getitem__ treating keys as positions is deprecated. In a future version, integer keys will always be treated as labels (consistent with DataFrame behavior). To access a value by position, use `ser.iloc[pos]`\n",
      "  ).apply(lambda x: x[0])#[24*history_lag:]\n"
     ]
    },
    {
     "name": "stdout",
     "output_type": "stream",
     "text": [
      "WARNING : 55 NaN (droped) for input at ts 36\n"
     ]
    },
    {
     "name": "stderr",
     "output_type": "stream",
     "text": [
      "/Users/greg/Projects/sundl/notebooks/ficat/../../sundl/dataloader/sdocml.py:750: FutureWarning: Series.__getitem__ treating keys as positions is deprecated. In a future version, integer keys will always be treated as labels (consistent with DataFrame behavior). To access a value by position, use `ser.iloc[pos]`\n",
      "  ).apply(lambda x: x[0])#[24*history_lag:]\n"
     ]
    },
    {
     "name": "stdout",
     "output_type": "stream",
     "text": [
      "WARNING : 55 NaN (droped) for input at ts 48\n",
      "0 incomplete training dates\n",
      "0 incomplete val dates\n",
      "Epoch 1/2\n",
      " 1/13 [=>............................] - ETA: 1s - loss: 13318.8770 - mae: 76.6490 - maep: 18.0853 - rmse: 103.0049\n",
      "Epoch 1: val_rmse did not improve from 85.00000\n",
      "13/13 [==============================] - 0s 14ms/step - loss: 13888.1045 - mae: 82.2285 - maep: 19.4752 - rmse: 109.3096 - val_loss: 17256.7031 - val_mae: 99.6932 - val_maep: 23.1090 - val_rmse: 131.3648\n",
      "Epoch 2/2\n",
      " 1/13 [=>............................] - ETA: 0s - loss: 12031.5801 - mae: 83.4861 - maep: 20.4524 - rmse: 109.6886\n",
      "Epoch 2: val_rmse did not improve from 85.00000\n",
      "13/13 [==============================] - 0s 4ms/step - loss: 13888.1045 - mae: 90.5674 - maep: 21.5976 - rmse: 117.8478 - val_loss: 17256.7012 - val_mae: 99.6932 - val_maep: 23.1090 - val_rmse: 131.3648\n"
     ]
    },
    {
     "name": "stderr",
     "output_type": "stream",
     "text": [
      "100%|██████████| 1/1 [02:28<00:00, 148.63s/it]"
     ]
    },
    {
     "name": "stdout",
     "output_type": "stream",
     "text": [
      "Train  loss:  ['1.39e+04', '1.39e+04']\n",
      "Train  mae:  ['82.23', '90.57']\n",
      "Train  maep:  ['19.48', '21.60']\n",
      "Train  rmse:  ['109.31', '117.85']\n",
      "\n",
      "Val val_loss:  ['1.73e+04', '1.73e+04']\n",
      "Val val_mae:  ['99.69', '99.69']\n",
      "Val val_maep:  ['23.11', '23.11']\n",
      "Val val_rmse:  ['131.36', '131.36']\n"
     ]
    },
    {
     "name": "stderr",
     "output_type": "stream",
     "text": [
      "\n",
      " 80%|████████  | 4/5 [12:54<02:59, 179.54s/it]"
     ]
    },
    {
     "name": "stdout",
     "output_type": "stream",
     "text": [
      "\n",
      "\n",
      "-----------------------------\n",
      "Model : SW_EfN2S_SpX16_Ptrd_Lx12Hx6Dx12_0193x0211x0094_12\n",
      "\n",
      "\n",
      "-----------------------------\n",
      "Model : SW_EfN2S_SpX16_Ptrd_Lx12Hx6Dx12_0193x0211x0094_12\n",
      "FOLD #0\n",
      "\n",
      "DS TRAINING : \n"
     ]
    },
    {
     "name": "stderr",
     "output_type": "stream",
     "text": [
      "/Users/greg/Projects/sundl/notebooks/ficat/../../sundl/dataloader/sdocml.py:194: FutureWarning: Series.__getitem__ treating keys as positions is deprecated. In a future version, integer keys will always be treated as labels (consistent with DataFrame behavior). To access a value by position, use `ser.iloc[pos]`\n",
      "  ).apply(lambda x: x[-1]).shift(freq = f'-{offLabel}H')#[:-int(offLabel/2)]\n"
     ]
    },
    {
     "name": "stdout",
     "output_type": "stream",
     "text": [
      "WARNING : 61 NaN (droped) for label at ts 12\n"
     ]
    },
    {
     "name": "stderr",
     "output_type": "stream",
     "text": [
      "/Users/greg/Projects/sundl/notebooks/ficat/../../sundl/dataloader/sdocml.py:194: FutureWarning: Series.__getitem__ treating keys as positions is deprecated. In a future version, integer keys will always be treated as labels (consistent with DataFrame behavior). To access a value by position, use `ser.iloc[pos]`\n",
      "  ).apply(lambda x: x[-1]).shift(freq = f'-{offLabel}H')#[:-int(offLabel/2)]\n"
     ]
    },
    {
     "name": "stdout",
     "output_type": "stream",
     "text": [
      "WARNING : 67 NaN (droped) for label at ts 24\n"
     ]
    },
    {
     "name": "stderr",
     "output_type": "stream",
     "text": [
      "/Users/greg/Projects/sundl/notebooks/ficat/../../sundl/dataloader/sdocml.py:194: FutureWarning: Series.__getitem__ treating keys as positions is deprecated. In a future version, integer keys will always be treated as labels (consistent with DataFrame behavior). To access a value by position, use `ser.iloc[pos]`\n",
      "  ).apply(lambda x: x[-1]).shift(freq = f'-{offLabel}H')#[:-int(offLabel/2)]\n"
     ]
    },
    {
     "name": "stdout",
     "output_type": "stream",
     "text": [
      "WARNING : 73 NaN (droped) for label at ts 36\n"
     ]
    },
    {
     "name": "stderr",
     "output_type": "stream",
     "text": [
      "/Users/greg/Projects/sundl/notebooks/ficat/../../sundl/dataloader/sdocml.py:194: FutureWarning: Series.__getitem__ treating keys as positions is deprecated. In a future version, integer keys will always be treated as labels (consistent with DataFrame behavior). To access a value by position, use `ser.iloc[pos]`\n",
      "  ).apply(lambda x: x[-1]).shift(freq = f'-{offLabel}H')#[:-int(offLabel/2)]\n"
     ]
    },
    {
     "name": "stdout",
     "output_type": "stream",
     "text": [
      "WARNING : 79 NaN (droped) for label at ts 48\n"
     ]
    },
    {
     "name": "stderr",
     "output_type": "stream",
     "text": [
      "/Users/greg/Projects/sundl/notebooks/ficat/../../sundl/dataloader/sdocml.py:194: FutureWarning: Series.__getitem__ treating keys as positions is deprecated. In a future version, integer keys will always be treated as labels (consistent with DataFrame behavior). To access a value by position, use `ser.iloc[pos]`\n",
      "  ).apply(lambda x: x[-1]).shift(freq = f'-{offLabel}H')#[:-int(offLabel/2)]\n"
     ]
    },
    {
     "name": "stdout",
     "output_type": "stream",
     "text": [
      "WARNING : 85 NaN (droped) for label at ts 60\n"
     ]
    },
    {
     "name": "stderr",
     "output_type": "stream",
     "text": [
      "/Users/greg/Projects/sundl/notebooks/ficat/../../sundl/dataloader/sdocml.py:194: FutureWarning: Series.__getitem__ treating keys as positions is deprecated. In a future version, integer keys will always be treated as labels (consistent with DataFrame behavior). To access a value by position, use `ser.iloc[pos]`\n",
      "  ).apply(lambda x: x[-1]).shift(freq = f'-{offLabel}H')#[:-int(offLabel/2)]\n"
     ]
    },
    {
     "name": "stdout",
     "output_type": "stream",
     "text": [
      "WARNING : 91 NaN (droped) for label at ts 72\n"
     ]
    },
    {
     "name": "stderr",
     "output_type": "stream",
     "text": [
      "/Users/greg/Projects/sundl/notebooks/ficat/../../sundl/dataloader/sdocml.py:194: FutureWarning: Series.__getitem__ treating keys as positions is deprecated. In a future version, integer keys will always be treated as labels (consistent with DataFrame behavior). To access a value by position, use `ser.iloc[pos]`\n",
      "  ).apply(lambda x: x[-1]).shift(freq = f'-{offLabel}H')#[:-int(offLabel/2)]\n"
     ]
    },
    {
     "name": "stdout",
     "output_type": "stream",
     "text": [
      "WARNING : 97 NaN (droped) for label at ts 84\n"
     ]
    },
    {
     "name": "stderr",
     "output_type": "stream",
     "text": [
      "/Users/greg/Projects/sundl/notebooks/ficat/../../sundl/dataloader/sdocml.py:194: FutureWarning: Series.__getitem__ treating keys as positions is deprecated. In a future version, integer keys will always be treated as labels (consistent with DataFrame behavior). To access a value by position, use `ser.iloc[pos]`\n",
      "  ).apply(lambda x: x[-1]).shift(freq = f'-{offLabel}H')#[:-int(offLabel/2)]\n"
     ]
    },
    {
     "name": "stdout",
     "output_type": "stream",
     "text": [
      "WARNING : 103 NaN (droped) for label at ts 96\n"
     ]
    },
    {
     "name": "stderr",
     "output_type": "stream",
     "text": [
      "/Users/greg/Projects/sundl/notebooks/ficat/../../sundl/dataloader/sdocml.py:194: FutureWarning: Series.__getitem__ treating keys as positions is deprecated. In a future version, integer keys will always be treated as labels (consistent with DataFrame behavior). To access a value by position, use `ser.iloc[pos]`\n",
      "  ).apply(lambda x: x[-1]).shift(freq = f'-{offLabel}H')#[:-int(offLabel/2)]\n"
     ]
    },
    {
     "name": "stdout",
     "output_type": "stream",
     "text": [
      "WARNING : 109 NaN (droped) for label at ts 108\n"
     ]
    },
    {
     "name": "stderr",
     "output_type": "stream",
     "text": [
      "/Users/greg/Projects/sundl/notebooks/ficat/../../sundl/dataloader/sdocml.py:194: FutureWarning: Series.__getitem__ treating keys as positions is deprecated. In a future version, integer keys will always be treated as labels (consistent with DataFrame behavior). To access a value by position, use `ser.iloc[pos]`\n",
      "  ).apply(lambda x: x[-1]).shift(freq = f'-{offLabel}H')#[:-int(offLabel/2)]\n"
     ]
    },
    {
     "name": "stdout",
     "output_type": "stream",
     "text": [
      "WARNING : 115 NaN (droped) for label at ts 120\n"
     ]
    },
    {
     "name": "stderr",
     "output_type": "stream",
     "text": [
      "/Users/greg/Projects/sundl/notebooks/ficat/../../sundl/dataloader/sdocml.py:194: FutureWarning: Series.__getitem__ treating keys as positions is deprecated. In a future version, integer keys will always be treated as labels (consistent with DataFrame behavior). To access a value by position, use `ser.iloc[pos]`\n",
      "  ).apply(lambda x: x[-1]).shift(freq = f'-{offLabel}H')#[:-int(offLabel/2)]\n"
     ]
    },
    {
     "name": "stdout",
     "output_type": "stream",
     "text": [
      "WARNING : 121 NaN (droped) for label at ts 132\n"
     ]
    },
    {
     "name": "stderr",
     "output_type": "stream",
     "text": [
      "/Users/greg/Projects/sundl/notebooks/ficat/../../sundl/dataloader/sdocml.py:194: FutureWarning: Series.__getitem__ treating keys as positions is deprecated. In a future version, integer keys will always be treated as labels (consistent with DataFrame behavior). To access a value by position, use `ser.iloc[pos]`\n",
      "  ).apply(lambda x: x[-1]).shift(freq = f'-{offLabel}H')#[:-int(offLabel/2)]\n"
     ]
    },
    {
     "name": "stdout",
     "output_type": "stream",
     "text": [
      "WARNING : 127 NaN (droped) for label at ts 144\n",
      "------------------------------\n",
      "labels.shape (205, 12)\n",
      "------------------------------\n",
      "\n",
      "DS VALIDATION : \n"
     ]
    },
    {
     "name": "stderr",
     "output_type": "stream",
     "text": [
      "/Users/greg/Projects/sundl/notebooks/ficat/../../sundl/dataloader/sdocml.py:194: FutureWarning: Series.__getitem__ treating keys as positions is deprecated. In a future version, integer keys will always be treated as labels (consistent with DataFrame behavior). To access a value by position, use `ser.iloc[pos]`\n",
      "  ).apply(lambda x: x[-1]).shift(freq = f'-{offLabel}H')#[:-int(offLabel/2)]\n"
     ]
    },
    {
     "name": "stdout",
     "output_type": "stream",
     "text": [
      "WARNING : 61 NaN (droped) for label at ts 12\n"
     ]
    },
    {
     "name": "stderr",
     "output_type": "stream",
     "text": [
      "/Users/greg/Projects/sundl/notebooks/ficat/../../sundl/dataloader/sdocml.py:194: FutureWarning: Series.__getitem__ treating keys as positions is deprecated. In a future version, integer keys will always be treated as labels (consistent with DataFrame behavior). To access a value by position, use `ser.iloc[pos]`\n",
      "  ).apply(lambda x: x[-1]).shift(freq = f'-{offLabel}H')#[:-int(offLabel/2)]\n"
     ]
    },
    {
     "name": "stdout",
     "output_type": "stream",
     "text": [
      "WARNING : 67 NaN (droped) for label at ts 24\n"
     ]
    },
    {
     "name": "stderr",
     "output_type": "stream",
     "text": [
      "/Users/greg/Projects/sundl/notebooks/ficat/../../sundl/dataloader/sdocml.py:194: FutureWarning: Series.__getitem__ treating keys as positions is deprecated. In a future version, integer keys will always be treated as labels (consistent with DataFrame behavior). To access a value by position, use `ser.iloc[pos]`\n",
      "  ).apply(lambda x: x[-1]).shift(freq = f'-{offLabel}H')#[:-int(offLabel/2)]\n"
     ]
    },
    {
     "name": "stdout",
     "output_type": "stream",
     "text": [
      "WARNING : 73 NaN (droped) for label at ts 36\n"
     ]
    },
    {
     "name": "stderr",
     "output_type": "stream",
     "text": [
      "/Users/greg/Projects/sundl/notebooks/ficat/../../sundl/dataloader/sdocml.py:194: FutureWarning: Series.__getitem__ treating keys as positions is deprecated. In a future version, integer keys will always be treated as labels (consistent with DataFrame behavior). To access a value by position, use `ser.iloc[pos]`\n",
      "  ).apply(lambda x: x[-1]).shift(freq = f'-{offLabel}H')#[:-int(offLabel/2)]\n"
     ]
    },
    {
     "name": "stdout",
     "output_type": "stream",
     "text": [
      "WARNING : 79 NaN (droped) for label at ts 48\n"
     ]
    },
    {
     "name": "stderr",
     "output_type": "stream",
     "text": [
      "/Users/greg/Projects/sundl/notebooks/ficat/../../sundl/dataloader/sdocml.py:194: FutureWarning: Series.__getitem__ treating keys as positions is deprecated. In a future version, integer keys will always be treated as labels (consistent with DataFrame behavior). To access a value by position, use `ser.iloc[pos]`\n",
      "  ).apply(lambda x: x[-1]).shift(freq = f'-{offLabel}H')#[:-int(offLabel/2)]\n"
     ]
    },
    {
     "name": "stdout",
     "output_type": "stream",
     "text": [
      "WARNING : 85 NaN (droped) for label at ts 60\n"
     ]
    },
    {
     "name": "stderr",
     "output_type": "stream",
     "text": [
      "/Users/greg/Projects/sundl/notebooks/ficat/../../sundl/dataloader/sdocml.py:194: FutureWarning: Series.__getitem__ treating keys as positions is deprecated. In a future version, integer keys will always be treated as labels (consistent with DataFrame behavior). To access a value by position, use `ser.iloc[pos]`\n",
      "  ).apply(lambda x: x[-1]).shift(freq = f'-{offLabel}H')#[:-int(offLabel/2)]\n"
     ]
    },
    {
     "name": "stdout",
     "output_type": "stream",
     "text": [
      "WARNING : 91 NaN (droped) for label at ts 72\n"
     ]
    },
    {
     "name": "stderr",
     "output_type": "stream",
     "text": [
      "/Users/greg/Projects/sundl/notebooks/ficat/../../sundl/dataloader/sdocml.py:194: FutureWarning: Series.__getitem__ treating keys as positions is deprecated. In a future version, integer keys will always be treated as labels (consistent with DataFrame behavior). To access a value by position, use `ser.iloc[pos]`\n",
      "  ).apply(lambda x: x[-1]).shift(freq = f'-{offLabel}H')#[:-int(offLabel/2)]\n"
     ]
    },
    {
     "name": "stdout",
     "output_type": "stream",
     "text": [
      "WARNING : 97 NaN (droped) for label at ts 84\n"
     ]
    },
    {
     "name": "stderr",
     "output_type": "stream",
     "text": [
      "/Users/greg/Projects/sundl/notebooks/ficat/../../sundl/dataloader/sdocml.py:194: FutureWarning: Series.__getitem__ treating keys as positions is deprecated. In a future version, integer keys will always be treated as labels (consistent with DataFrame behavior). To access a value by position, use `ser.iloc[pos]`\n",
      "  ).apply(lambda x: x[-1]).shift(freq = f'-{offLabel}H')#[:-int(offLabel/2)]\n"
     ]
    },
    {
     "name": "stdout",
     "output_type": "stream",
     "text": [
      "WARNING : 103 NaN (droped) for label at ts 96\n"
     ]
    },
    {
     "name": "stderr",
     "output_type": "stream",
     "text": [
      "/Users/greg/Projects/sundl/notebooks/ficat/../../sundl/dataloader/sdocml.py:194: FutureWarning: Series.__getitem__ treating keys as positions is deprecated. In a future version, integer keys will always be treated as labels (consistent with DataFrame behavior). To access a value by position, use `ser.iloc[pos]`\n",
      "  ).apply(lambda x: x[-1]).shift(freq = f'-{offLabel}H')#[:-int(offLabel/2)]\n"
     ]
    },
    {
     "name": "stdout",
     "output_type": "stream",
     "text": [
      "WARNING : 109 NaN (droped) for label at ts 108\n"
     ]
    },
    {
     "name": "stderr",
     "output_type": "stream",
     "text": [
      "/Users/greg/Projects/sundl/notebooks/ficat/../../sundl/dataloader/sdocml.py:194: FutureWarning: Series.__getitem__ treating keys as positions is deprecated. In a future version, integer keys will always be treated as labels (consistent with DataFrame behavior). To access a value by position, use `ser.iloc[pos]`\n",
      "  ).apply(lambda x: x[-1]).shift(freq = f'-{offLabel}H')#[:-int(offLabel/2)]\n"
     ]
    },
    {
     "name": "stdout",
     "output_type": "stream",
     "text": [
      "WARNING : 115 NaN (droped) for label at ts 120\n"
     ]
    },
    {
     "name": "stderr",
     "output_type": "stream",
     "text": [
      "/Users/greg/Projects/sundl/notebooks/ficat/../../sundl/dataloader/sdocml.py:194: FutureWarning: Series.__getitem__ treating keys as positions is deprecated. In a future version, integer keys will always be treated as labels (consistent with DataFrame behavior). To access a value by position, use `ser.iloc[pos]`\n",
      "  ).apply(lambda x: x[-1]).shift(freq = f'-{offLabel}H')#[:-int(offLabel/2)]\n"
     ]
    },
    {
     "name": "stdout",
     "output_type": "stream",
     "text": [
      "WARNING : 121 NaN (droped) for label at ts 132\n"
     ]
    },
    {
     "name": "stderr",
     "output_type": "stream",
     "text": [
      "/Users/greg/Projects/sundl/notebooks/ficat/../../sundl/dataloader/sdocml.py:194: FutureWarning: Series.__getitem__ treating keys as positions is deprecated. In a future version, integer keys will always be treated as labels (consistent with DataFrame behavior). To access a value by position, use `ser.iloc[pos]`\n",
      "  ).apply(lambda x: x[-1]).shift(freq = f'-{offLabel}H')#[:-int(offLabel/2)]\n"
     ]
    },
    {
     "name": "stdout",
     "output_type": "stream",
     "text": [
      "WARNING : 127 NaN (droped) for label at ts 144\n",
      "------------------------------\n",
      "labels.shape (266, 12)\n",
      "------------------------------\n",
      "3 incomplete training dates\n",
      "3 incomplete val dates\n",
      "\n",
      "MODEL PARAMETERS #: 20.00M\n",
      "of which trainable #: tf.Tensor(4303, shape=(), dtype=int32)\n",
      "Epoch 1/2\n",
      "13/13 [==============================] - ETA: 0s - loss: 179807.9062 - mae: 235.5778 - maep: 56.3299 - rmse: 295.9027\n",
      "Epoch 1: val_rmse did not improve from 85.00000\n",
      "13/13 [==============================] - 47s 3s/step - loss: 179807.9062 - mae: 235.5778 - maep: 56.3299 - rmse: 295.9027 - val_loss: 187192.0781 - val_mae: 422.5873 - val_maep: 99.5021 - val_rmse: 432.6570\n",
      "Epoch 2/2\n",
      "13/13 [==============================] - ETA: 0s - loss: 179593.8281 - mae: 413.6336 - maep: 99.8611 - rmse: 423.7851\n",
      "Epoch 2: val_rmse did not improve from 85.00000\n",
      "13/13 [==============================] - 30s 2s/step - loss: 179593.8281 - mae: 413.6336 - maep: 99.8611 - rmse: 423.7851 - val_loss: 187008.8750 - val_mae: 422.3810 - val_maep: 99.4517 - val_rmse: 432.4452\n"
     ]
    },
    {
     "name": "stderr",
     "output_type": "stream",
     "text": [
      "100%|██████████| 1/1 [02:39<00:00, 159.85s/it]"
     ]
    },
    {
     "name": "stdout",
     "output_type": "stream",
     "text": [
      "Train  loss:  ['1.80e+05', '1.80e+05']\n",
      "Train  mae:  ['235.58', '413.63']\n",
      "Train  maep:  ['56.33', '99.86']\n",
      "Train  rmse:  ['295.90', '423.79']\n",
      "\n",
      "Val val_loss:  ['1.87e+05', '1.87e+05']\n",
      "Val val_mae:  ['422.59', '422.38']\n",
      "Val val_maep:  ['99.50', '99.45']\n",
      "Val val_rmse:  ['432.66', '432.45']\n"
     ]
    },
    {
     "name": "stderr",
     "output_type": "stream",
     "text": [
      "\n",
      "100%|██████████| 5/5 [15:34<00:00, 187.00s/it]\n"
     ]
    }
   ],
   "source": [
    "from utilsTraining import setUpResultFolder, trainConstantModel, printTrainingResults, saveTrainingResults\n",
    "from sundl.utils.data import read_Dataframe_With_Dates, loadMinMaxDates\n",
    "\n",
    "models = [\n",
    "  # (persistant27, None),\n",
    "  # (persistant4 , None),\n",
    "  (sp16        , ['0193x0211x0094']),\n",
    "  (sp16scFt    , ['0193x0211x0094']),\n",
    "  (sp16scBs    , ['0193x0211x0094'])\n",
    "]\n",
    "\n",
    "log, resDir, modelDir, mtcDict = setUpResultFolder(\n",
    "    models = models, \n",
    "    pathRes = PATH_RES,\n",
    "    metrics = metrics,\n",
    "    continuingFolder = CONTINUING_FOLDER, \n",
    "    newFolder = NEW_FOLDER_NAME,\n",
    "    imgSize = IMG_SIZE,\n",
    "    cv_K = CV_K,\n",
    "    saveModel = SAVE_MODEL,\n",
    "    windows_avg_h = windows_avg_h\n",
    "    )\n",
    "\n",
    "print('\\nINITIAL STATUS : ')\n",
    "display(log)\n",
    "print('')\n",
    "res = {}\n",
    "best = None\n",
    "eval = None\n",
    "bestCVCrossEpoch = None\n",
    "dsTrain = None\n",
    "dsVal = None\n",
    "ct=0\n",
    "verbose = 1\n",
    "ct_dsBuilds = -1\n",
    "minDate, maxDate = loadMinMaxDates(PATH_IMAGES)\n",
    "\n",
    "print('minDate : ', minDate)\n",
    "print('maxDate : ', maxDate)\n",
    "\n",
    "for modelInstantiater, channels in tqdm(models):\n",
    "  h = windows_avg_h\n",
    "  ct_dsBuilds+=1\n",
    "  \n",
    "  modelInstantiater.buildDsParams['classTresholds'] = None\n",
    "  modelInstantiater.buildDsParams['classWeights'] = None\n",
    "  \n",
    "\n",
    "  dfTimeseries = read_Dataframe_With_Dates(F_PATH_SW_TS(h))\n",
    "\n",
    "  CV_FLD_PTH  = F_PATH_FOLDS_SW(chunk_width, buffer, testSplitDate, h)\n",
    "  with open(CV_FLD_PTH, 'rb') as f1:\n",
    "    dfFoldsTrainVal = pickle.load(f1)[0:CV_K]\n",
    "    \n",
    "  full_name_comb = modelInstantiater.fullNameFunc(channels,h)\n",
    "  if log.loc[full_name_comb]['status'] > 0:\n",
    "    print(f'\\n\\n-----------------------------\\n{full_name_comb} already successfuly trained\\n')\n",
    "  else:\n",
    "    log.loc[full_name_comb, 'status'] = -1\n",
    "    log.to_csv(resDir + '/log.csv')\n",
    "  \n",
    "    model = None\n",
    "    if RECOMPUTE_DATASET:\n",
    "      dsTrain = None\n",
    "      dsVal = None\n",
    "  \n",
    "    #===================================================\n",
    "    # CROSS VALIDATION LOOP\n",
    "    #===================================================\n",
    "    duration = time.time()\n",
    "    res[full_name_comb] = []\n",
    "    kf=0\n",
    "    for df_train, df_val in tqdm(dfFoldsTrainVal,disable = False):#not verbose):\n",
    "      print(f'\\n\\n-----------------------------\\nModel : {full_name_comb}')\n",
    "      if Path(resDir+f'/training_folds/training_{full_name_comb}_fd{kf:0>3d}.csv').exists():\n",
    "        res[full_name_comb].append(pd.read_csv(resDir+f'/training_folds/training_{full_name_comb}_fd{kf:0>3d}.csv').set_index('epoch'))\n",
    "        print(f'FOLD #{kf} ALREADY TRAINED')\n",
    "        kf += 1\n",
    "      else:\n",
    "        print(f'\\n\\n-----------------------------\\nModel : {full_name_comb}')\n",
    "        print(f'FOLD #{kf}')\n",
    "        \n",
    "        # MEMORY CLEANING\n",
    "        tf.keras.backend.clear_session()\n",
    "        tf.compat.v1.reset_default_graph()\n",
    "        if model is not None: del model\n",
    "        if RECOMPUTE_DATASET:\n",
    "          if dsTrain is not None: del dsTrain\n",
    "          if dsVal is not None: del dsVal\n",
    "        gc.collect()\n",
    "        \n",
    "        # FOLDER FOR MODEL\n",
    "        if SAVE_MODEL:\n",
    "          modelDirSub = modelDir + f'/{full_name_comb}'\n",
    "          if CV_K is not None:\n",
    "            modelDirSub = modelDirSub + f'_fd{kf:0>3d}'\n",
    "            \n",
    "        # DATASETS INSTANTIATION \n",
    "        dfSamples_train = df_train.copy()\n",
    "        dfSamples_val = df_val.copy()\n",
    "        if SAMPLE_TRAIN is not None:\n",
    "          dfSamples_train = dfSamples_train.sample(frac = SAMPLE_TRAIN, random_state=49)\n",
    "        if SAMPLE_VAL is not None:\n",
    "           dfSamples_val = dfSamples_val.sample(frac = SAMPLE_VAL, random_state=49)\n",
    "        if ct_dsBuilds==0 or RECOMPUTE_DATASET:\n",
    "          pathDir = PATH_IMAGES if channels is not None else None\n",
    "          print('\\nDS TRAINING : ')\n",
    "          dsTrain, _, missing_file_regexp, dfSamples_train_corr = modelInstantiater.build_DS(\n",
    "              pathDir    = pathDir,\n",
    "              channels   = channels,\n",
    "              dfTimeseries = dfTimeseries.copy(), \n",
    "              samples    = dfSamples_train.copy(), \n",
    "              batch_size = BATCH_SIZE,\n",
    "              cache      = CACHE,\n",
    "              shuffle    = True\n",
    "          )\n",
    "          print('\\nDS VALIDATION : ')\n",
    "          dsVal, _, missing_file_regexp_val, dfSamples_val_corr  = modelInstantiater.build_DS(\n",
    "              pathDir    = pathDir,\n",
    "              channels   = channels,\n",
    "              dfTimeseries = dfTimeseries.copy(),\n",
    "              samples    = dfSamples_val.copy(),\n",
    "              batch_size = BATCH_SIZE,\n",
    "              cache      = CACHE,\n",
    "              shuffle    = True,\n",
    "              typeDs     = 'val'\n",
    "          )\n",
    "          print(f'{len(missing_file_regexp)} incomplete training dates')\n",
    "          print(f'{len(missing_file_regexp_val)} incomplete val dates')\n",
    "          \n",
    "        # MODEL INSTANTIATION\n",
    "        model = modelInstantiater()\n",
    "        try:\n",
    "          print(f'\\nMODEL PARAMETERS #: {model.count_params()/1e6:.2f}M')\n",
    "          trainable_params = tf.reduce_sum([tf.reduce_prod(p.shape) for p in model.trainable_variables])\n",
    "          print(\"of which trainable #:\", trainable_params)\n",
    "        except:\n",
    "          pass\n",
    "        \n",
    "        # CALLBACKS\n",
    "        callbacks = []\n",
    "        if SAVE_MODEL:\n",
    "          callbacks.append(tf.keras.callbacks.ModelCheckpoint(\n",
    "              modelDirSub,\n",
    "              save_best_only = True,\n",
    "              save_weights_only=False,\n",
    "              monitor = save_monitor,\n",
    "              verbose = 1,\n",
    "              mode = save_mode,\n",
    "              initial_value_threshold = save_thd)\n",
    "          )\n",
    "        \n",
    "        # TRAINING\n",
    "        if modelInstantiater.savedPredictionModel:\n",
    "          # models where scalar = output (e.g. persistant models)\n",
    "          historyData = trainConstantModel(dsTrain, dsVal, model, modelInstantiater, EPOCHS, weightByClass, SAVE_MODEL, modelDirSub)\n",
    "        else:\n",
    "          history = model.fit(dsTrain,#.take(1),\n",
    "                              epochs=EPOCHS,\n",
    "                              validation_data = dsVal,#.take(1),\n",
    "                              callbacks = callbacks,\n",
    "                              verbose = 1 #verbose\n",
    "                              )\n",
    "          historyData = history.history\n",
    "          if SAVE_MODEL:\n",
    "            pathConfigModel = modelDirSub + f'_config.pkl'\n",
    "            modelInstantiater.saveConfig(pathConfigModel)\n",
    "\n",
    "        # PRINTING TRAINING HISTORY\n",
    "        printTrainingResults(historyData)\n",
    "        \n",
    "\n",
    "        # SAVING FOLD RESULTS\n",
    "        res[full_name_comb].append(pd.DataFrame(historyData)) \n",
    "        res[full_name_comb][-1].index.names = ['epoch']\n",
    "        num_inst = len(dfSamples_train)\n",
    "        res[full_name_comb][-1]['num_train_inst'] = (res[full_name_comb][-1].index + 1) * num_inst\n",
    "        res[full_name_comb][-1].to_csv(resDir+f'/training_folds/training_{full_name_comb}_fd{kf:0>3d}.csv',index=True)\n",
    "        kf+=1 # fold index\n",
    "       \n",
    "      \n",
    "      # END OF CV-LOOP\n",
    "      #===================================================\n",
    "      \n",
    "    # SAVING GENERAL RESULTS\n",
    "    res, best, bestCVCrossEpoch = saveTrainingResults(resDir, res, best, bestCVCrossEpoch, full_name_comb, CV_K)\n",
    "    \n",
    "    duration = time.time() - duration\n",
    "    log.loc[full_name_comb, 'status'] = 1\n",
    "    log.loc[full_name_comb, 'duration'] = f'{duration//3600:0>2.0f}h {duration//60%60:0>2.0f}m {duration%60:0>2.0f}s'\n",
    "    log.to_csv(resDir + '/log.csv')\n",
    "        "
   ]
  },
  {
   "cell_type": "code",
   "execution_count": null,
   "metadata": {},
   "outputs": [],
   "source": []
  }
 ],
 "metadata": {
  "kernelspec": {
   "display_name": "Python 3",
   "language": "python",
   "name": "python3"
  },
  "language_info": {
   "codemirror_mode": {
    "name": "ipython",
    "version": 3
   },
   "file_extension": ".py",
   "mimetype": "text/x-python",
   "name": "python",
   "nbconvert_exporter": "python",
   "pygments_lexer": "ipython3",
   "version": "3.11.7"
  }
 },
 "nbformat": 4,
 "nbformat_minor": 2
}
